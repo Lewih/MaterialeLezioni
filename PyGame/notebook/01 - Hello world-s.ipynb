{
 "cells": [
  {
   "cell_type": "markdown",
   "metadata": {},
   "source": [
    "![pgb_logo](pgb_logo.jpg)\n",
    "![logo](logo.png)\n",
    "\n",
    "# Hello World in pygame\n",
    "\n",
    "In this section We’ll see some basic concepts in order to understand and create a set of  “Hello world!” little programs.\n",
    "\n",
    "Everything, including “Hello world!”, will appear in a graphical window instead of as text.\n",
    "\n",
    "The pygame module doesn’t work well with the interactive shell, so you can only write programs using pygame in a file editor"
   ]
  },
  {
   "cell_type": "markdown",
   "metadata": {},
   "source": [
    "Pygame displays output by drawing graphics and text in a separate window. \n",
    "\n",
    "Input to pygame comes from the keyboard and the mouse through events"
   ]
  },
  {
   "cell_type": "markdown",
   "metadata": {},
   "source": [
    "The nice thing about using a window instead of a console is that text can appear anywhere in the window, not just after the previous text you have printed. \n",
    "\n",
    "The text can also be any color and size. \n",
    "\n",
    "The window is like a canvas, and you can draw whatever you like on it."
   ]
  },
  {
   "cell_type": "markdown",
   "metadata": {},
   "source": [
    "# Basic common steps\n",
    "\n",
    "## Initializing pygame\n",
    "\n",
    "All pygame programs must call `pygame.init()`, after importing the pygame module but before calling any other pygame functions\n",
    "\n",
    "Init will start ALL the modules so that they will be available when needed."
   ]
  },
  {
   "cell_type": "markdown",
   "metadata": {},
   "source": [
    "## Setting Up the pygame Window - Coordinates\n",
    "\n",
    "A graphical user interface (GUI) window is set by calling the set_mode() method in the `pygame.display` module.\n",
    "\n",
    "Windows use a coordinate system, but the window’s coordinate system is organized in pixels\n",
    "\n",
    "A pixel is the tiniest dot on your computer screen. A single pixel on your screen can light up in any color. All the pixels on your screen work together to display the pictures you see.\n",
    "\n",
    "In the example We’ll create a window 500 pixels wide and 400 pixels tall by using a tuple.\n",
    "\n",
    "![Coordinates](Coordinates.png)"
   ]
  },
  {
   "cell_type": "markdown",
   "metadata": {},
   "source": [
    "## Open a window - Surface Objects\n",
    "\n",
    "The `set_mode()` function returns a `pygame.Surface` object (which we’ll call Surface objects for short), a rectangle.\n",
    "\n",
    "Why set_mode? Why not open_window? The reason is that this command can actually do a lot more than open a window. It can also create games that run in a full-screen mode.\n",
    "\n",
    "More details here:\n",
    "http://www.pygame.org/docs/ref/display.html"
   ]
  },
  {
   "cell_type": "markdown",
   "metadata": {},
   "source": [
    "## Setting Up Color Variables\n",
    "\n",
    "There are three primary colors of light for pixels: red, green, and blue. \n",
    "\n",
    "By combining different amounts of these three colors (which is what your computer screen does), you can form any other color. \n",
    "\n",
    "In pygame, colors are represented by tuples of three integers. These are called RGB color values, and we’ll use them in our program to assign colors to pixels.\n",
    "\n",
    "Color picker is your friend!\n",
    "http://www.colorpicker.com/\n",
    "\n",
    "Since we don’t want to rewrite a three-number tuple every time we want to use a specific color in our program, we’ll make constants to hold tuples that are named after the color the tuple represents\n",
    "\n",
    "![Some colors](RGB_colors.png)\n",
    "\n",
    "All predefined colors can be found here:\n",
    "https://github.com/pygame/pygame/blob/master/src_py/colordict.py\n",
    "\n",
    "Example: \n",
    "`pygame.Color('gold')`"
   ]
  },
  {
   "cell_type": "markdown",
   "metadata": {},
   "source": [
    "# Drawing\n",
    "\n",
    "List of things that you can draw: rectangles, polygons, circles, ellipses, arcs, and lines\n",
    "\n",
    "Complete list here: http://www.pygame.org/docs/ref/draw.html\n",
    "\n",
    "If you decide to look at that pygame reference, you might see a function definition like this:\n",
    "\n",
    "`pygame.draw.rect(Surface, color, Rect, width=0): return Rect`\n",
    "\n",
    "A frequent cause of confusion is the part of the line that says width=0. What this means is that if you do not supply a width, it will default to zero and these two calls are equivalent:\n",
    "\n",
    "`pygame.draw.rect(screen, RED, [55, 50, 20, 25])\n",
    "pygame.draw.rect(screen, RED, [55, 50, 20, 25], 0)`\n",
    "\n",
    "The `return Rect` is telling you that the function returns a rectangle, the same as passed in."
   ]
  },
  {
   "cell_type": "markdown",
   "metadata": {},
   "source": [
    "## Drawing lines\n",
    "\n",
    "```python\n",
    "# Draw on the screen a green line from (0, 0) to (100, 100)\n",
    "# that is 5 pixels wide.\n",
    "pygame.draw.line(screen, GREEN, [0, 0], [100, 100], 5)\n",
    "```\n",
    "\n",
    "### Using loops and offset\n",
    "\n",
    "Putting a line drawing command inside a loop will cause multiple lines being drawn to the screen. \n",
    "\n",
    "If each line has the same starting and ending coordinates, then each line will draw on top of the other line. It will look like only one line was drawn. Offsets can be used.\n",
    "\n",
    "Simple offset example\n",
    "\n",
    "```python\n",
    "# Draw on the screen several lines from (0, 10) to (100, 110)\n",
    "# 5 pixels wide using a while loop\n",
    "y_offset = 0\n",
    "while y_offset < 100:\n",
    "    pygame.draw.line(screen,RED,[0,10+y_offset],[100,110+y_offset],5)\n",
    "    y_offset = y_offset + 10\n",
    "```\n",
    "\n",
    "More complex offset example\n",
    "\n",
    "```python\n",
    "# For this code, make sure to have a line that says\n",
    "# \"import math\" at the top of your program. Otherwise\n",
    "# it won't know what math.sin is.\n",
    "for i in range(200):\n",
    " \n",
    "    radians_x = i / 20\n",
    "    radians_y = i / 6\n",
    " \n",
    "    x = int(75 * math.sin(radians_x)) + 200\n",
    "    y = int(75 * math.cos(radians_y)) + 200\n",
    " \n",
    "    pygame.draw.line(screen, BLACK, [x,y], [x+5,y], 5)\n",
    "```\n"
   ]
  },
  {
   "cell_type": "markdown",
   "metadata": {},
   "source": [
    "## Drawing rectangles and ellipses\n",
    "\n",
    "For both the computer needs coordinates for the upper left rectangle corner (the origin), and a height and width.\n",
    "\n",
    "```python\n",
    "# Draw a rectangle\n",
    "pygame.draw.rect(screen,BLACK,[20,20,250,100],2)\n",
    "```\n",
    "\n",
    "```python\n",
    "# Draw an ellipse, using a rectangle as the outside boundaries\n",
    "pygame.draw.ellipse(screen, BLACK, [20,20,250,100], 2)\n",
    "```\n",
    "\n",
    "![ellipses](ellipses.png)\n"
   ]
  },
  {
   "cell_type": "markdown",
   "metadata": {},
   "source": [
    "## Drawing arcs\n",
    "\n",
    "Similar to the ellipse command, but it includes start and end angles for the arc to be drawn. The angles are in radians.\n",
    "\n",
    "```python\n",
    "# Draw an arc as part of an ellipse. Use radians to determine what\n",
    "# angle to draw.\n",
    "pygame.draw.arc(screen, GREEN, [100,100,250,200],  PI/2,     PI, 2)\n",
    "pygame.draw.arc(screen, BLACK, [100,100,250,200],     0,   PI/2, 2)\n",
    "pygame.draw.arc(screen, RED,   [100,100,250,200],3*PI/2,   2*PI, 2)\n",
    "pygame.draw.arc(screen, BLUE,  [100,100,250,200],    PI, 3*PI/2, 2)\n",
    "```\n",
    "\n",
    "![arcs](arcs.png)"
   ]
  },
  {
   "cell_type": "markdown",
   "metadata": {},
   "source": [
    "## Drawing polygons\n",
    "\n",
    "Each point is a list of two numbers, and the points themselves are nested in another list that holds all the point\n",
    "\n",
    "```python\n",
    "# This draws a triangle using the polygon command\n",
    "pygame.draw.polygon(screen, BLACK, [[100,100], [0,200], [200,200]], 5)\n",
    "```\n",
    "\n",
    "![polys](polys.png)"
   ]
  },
  {
   "cell_type": "markdown",
   "metadata": {},
   "source": [
    "# Writing Text on the pygame Window\n",
    "\n",
    "Text is slightly more complex. There are three things that need to be done. \n",
    "\n",
    "First, the program creates a variable that holds information about the font to be used, such as what typeface and how big.\n",
    "\n",
    "Second, the program creates an image of the text. One way to think of it is that the program carves out a “stamp” with the required letters that is ready to be dipped in ink and stamped on the paper.\n",
    "\n",
    "The third thing that is done is the program tells where this image of the text should be stamped (or “blit'ed”) to the screen.\n",
    "\n",
    "```python\n",
    "# Select the font to use, size, bold, italics\n",
    "font = pygame.font.SysFont('Calibri', 25, True, False)\n",
    " \n",
    "# Render the text. \"True\" means anti-aliased text.\n",
    "# Black is the color. The variable BLACK was defined\n",
    "# above as a list of [0, 0, 0]\n",
    "# Note: This line creates an image of the letters,\n",
    "# but does not put it on the screen yet.\n",
    "text = font.render(\"My text\",True,BLACK)\n",
    " \n",
    "# Put the image of the text on the screen at 250x250\n",
    "screen.blit(text, [250, 250])\n",
    "```\n",
    "\n",
    "## Using Fonts to Style Text\n",
    "\n",
    "By calling the `pygame.font.SysFont()` function with two parameters:\n",
    "\n",
    "    - The first parameter is the name of the font. We can pass None value to use the default system font. \n",
    "    \n",
    "    - The second parameter is the size of the font (which is measured in units called points). \n",
    "    \n",
    "Generating an image of letters for text like “Hello world!” is called *rendering*."
   ]
  },
  {
   "cell_type": "markdown",
   "metadata": {},
   "source": [
    "## Rendering a Font Object\n",
    "\n",
    "The Font object that you’ve stored in the font variable has a method called `render()`. \n",
    "\n",
    "This method will return a Surface object with the text drawn on it. \n",
    "\n",
    "The first parameter to `render()` is the string of the text to draw. \n",
    "\n",
    "The second parameter is a Boolean for whether or not to anti-alias the font. \n",
    "\n",
    "Anti-aliasing blurs your text slightly to make it look smoother.\n",
    "![Aliased](Aliased.png)\n",
    "\n",
    "The third and fourth parameters in line are both RGB tuples. \n",
    "\n",
    "The third parameter is the color the text will be rendered in (white, in this case), and the fourth is the background color behind the text (blue). \n",
    "\n",
    "We assign the Font object to the variable text.\n"
   ]
  },
  {
   "cell_type": "markdown",
   "metadata": {
    "collapsed": true
   },
   "source": [
    "## Setting the Text Location with Rect Attributes\n",
    "\n",
    "When we created the Font object, a Rect object was already made for it.\n",
    "\n",
    "If we want to change its position, we can just reassign it.\n",
    "\n",
    "```python\n",
    "textRect = text.get_rect()\n",
    "# Suppose screen is main window, we can get center position\n",
    "textRect.centerx = screen.get_rect().centerx\n",
    "textRect.centery = screen.get_rect().centery\n",
    "...\n",
    "screen.blit(text, textRect)\n",
    "```"
   ]
  },
  {
   "cell_type": "markdown",
   "metadata": {},
   "source": [
    "# Exercises\n",
    "\n",
    "## Quiz\n",
    "\n",
    "http://programarcadegames.com/quiz/quiz.php?file=graphics&lang=en\n",
    "\n",
    "## Assignment\n",
    "\n",
    "Draw a pretty picture. \n",
    "\n",
    "The goal of this exercise is to get practice using functions, using for loops, and computer graphics.\n",
    "\n",
    "You must use multiple colors.\n",
    "You must have a coherent picture, not abstract art with random shapes.\n",
    "You must use multiple types of graphic functions (e.g. circles, rectangles, lines, etc.)\n",
    "You must use a while or for loop to create a repeating pattern. \n",
    "\n",
    "Do not just redraw the same thing in the same location 10 times. \n",
    "Actually use that index variable as an offset to displace what you are drawing. \n",
    "Remember that you can contain multiple drawing commands in a loop, so you can draw multiple train cars for example."
   ]
  },
  {
   "cell_type": "markdown",
   "metadata": {
    "collapsed": true
   },
   "source": [
    "# Bibliography\n",
    "\n",
    "Program Arcade Games With Python And Pygame\n",
    "\n",
    "http://programarcadegames.com/index.php\n",
    "\n",
    "Invent Your Game with Python, ch 17\n"
   ]
  }
 ],
 "metadata": {
  "kernelspec": {
   "display_name": "Python 3",
   "language": "python",
   "name": "python3"
  },
  "language_info": {
   "codemirror_mode": {
    "name": "ipython",
    "version": 3
   },
   "file_extension": ".py",
   "mimetype": "text/x-python",
   "name": "python",
   "nbconvert_exporter": "python",
   "pygments_lexer": "ipython3",
   "version": "3.6.10"
  },
  "toc": {
   "base_numbering": 1,
   "nav_menu": {},
   "number_sections": true,
   "sideBar": true,
   "skip_h1_title": false,
   "title_cell": "Table of Contents",
   "title_sidebar": "Contents",
   "toc_cell": false,
   "toc_position": {},
   "toc_section_display": true,
   "toc_window_display": false
  }
 },
 "nbformat": 4,
 "nbformat_minor": 2
}
