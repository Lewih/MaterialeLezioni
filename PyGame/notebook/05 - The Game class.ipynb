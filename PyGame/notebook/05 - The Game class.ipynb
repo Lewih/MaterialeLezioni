{
 "cells": [
  {
   "cell_type": "markdown",
   "metadata": {},
   "source": [
    "![pgb_logo](pgb_logo.jpg)\n",
    "![logo](logo.png)"
   ]
  },
  {
   "cell_type": "markdown",
   "metadata": {},
   "source": [
    "# The Game class\n",
    "\n",
    "A more OO way to organize the code: \n",
    "\n",
    "`05_game_class_example.py`"
   ]
  },
  {
   "cell_type": "markdown",
   "metadata": {},
   "source": [
    "# Assets\n",
    "\n",
    "Be careful about using copyrighted material\n",
    "\n",
    "## Free repositories\n",
    "\n",
    "### Graphics\n",
    "\n",
    "http://kenney.nl/\n",
    "http://OpenGameArt.org\n",
    "http://HasGraphics.com\n",
    "\n",
    "### Sounds\n",
    "\n",
    "http://OpenGameArt.org\n",
    "http://www.freesound.org"
   ]
  },
  {
   "cell_type": "markdown",
   "metadata": {},
   "source": [
    "# Some Game concepts / elements\n",
    "\n",
    "## HUD\n",
    "\n"
   ]
  },
  {
   "cell_type": "markdown",
   "metadata": {},
   "source": [
    "# Showcase\n",
    "\n",
    "Time to see more examples\n"
   ]
  },
  {
   "cell_type": "markdown",
   "metadata": {},
   "source": [
    "# Exercises\n",
    "\n",
    "1) Improve one of the games in showcases\n",
    "\n",
    "2) Create Your game\n"
   ]
  },
  {
   "cell_type": "markdown",
   "metadata": {
    "collapsed": true
   },
   "source": [
    "# Bibliography\n",
    "\n",
    "Program Arcade Games With Python And Pygame, ch. 13\n",
    "\n",
    "http://programarcadegames.com/index.php\n"
   ]
  }
 ],
 "metadata": {
  "kernelspec": {
   "display_name": "Python 3",
   "language": "python",
   "name": "python3"
  },
  "language_info": {
   "codemirror_mode": {
    "name": "ipython",
    "version": 3
   },
   "file_extension": ".py",
   "mimetype": "text/x-python",
   "name": "python",
   "nbconvert_exporter": "python",
   "pygments_lexer": "ipython3",
   "version": "3.6.10"
  },
  "toc": {
   "base_numbering": 1,
   "nav_menu": {},
   "number_sections": true,
   "sideBar": true,
   "skip_h1_title": false,
   "title_cell": "Table of Contents",
   "title_sidebar": "Contents",
   "toc_cell": false,
   "toc_position": {},
   "toc_section_display": true,
   "toc_window_display": false
  }
 },
 "nbformat": 4,
 "nbformat_minor": 2
}
