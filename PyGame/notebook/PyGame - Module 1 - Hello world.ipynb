{
 "cells": [
  {
   "cell_type": "markdown",
   "metadata": {},
   "source": [
    "# Hello World in pygame\n",
    "\n",
    "We’ll use pygame to make “Hello world!” appear in a graphical window instead of as text.\n",
    "\n",
    "The pygame module doesn’t work well with the interactive shell, so you can only write programs using pygame in a file editor"
   ]
  },
  {
   "cell_type": "markdown",
   "metadata": {},
   "source": [
    "pygame displays output by drawing graphics and text in a separate window. \n",
    "\n",
    "Input to pygame comes from the keyboard and the mouse through events"
   ]
  },
  {
   "cell_type": "markdown",
   "metadata": {},
   "source": [
    "The nice thing about using a window instead of a console is that text can appear anywhere in the window, not just after the previous text you have printed. \n",
    "\n",
    "The text can also be any color and size. \n",
    "\n",
    "The window is like a canvas, and you can draw whatever you like on it."
   ]
  },
  {
   "cell_type": "markdown",
   "metadata": {},
   "source": [
    "## Initializing pygame\n",
    "\n",
    "All pygame programs must call `pygame.init()`, after importing the pygame module but before calling any other pygame functions\n",
    "\n",
    "Init will start ALL the modules so that they will be available when needed."
   ]
  },
  {
   "cell_type": "markdown",
   "metadata": {},
   "source": [
    "## Setting Up the pygame Window - Coordinates\n",
    "\n",
    "A graphical user interface (GUI) window is set by calling the set_mode() method in the `pygame.display` module.\n",
    "\n",
    "Windows use a coordinate system, but the window’s coordinate system is organized in pixels\n",
    "\n",
    "A pixel is the tiniest dot on your computer screen. A single pixel on your screen can light up in any color. All the pixels on your screen work together to display the pictures you see.\n",
    "\n",
    "In the example We’ll create a window 500 pixels wide and 400 pixels tall by using a tuple.\n",
    "\n",
    "![Coordinates](Coordinates.png)"
   ]
  },
  {
   "cell_type": "markdown",
   "metadata": {},
   "source": [
    "## Surface Objects\n",
    "\n",
    "The `set_mode()` function returns a `pygame.Surface` object (which we’ll call Surface objects for short), a rectangle\n",
    "\n",
    "Many functions return a `Surface`"
   ]
  },
  {
   "cell_type": "markdown",
   "metadata": {},
   "source": [
    "## Setting Up Color Variables\n",
    "\n",
    "There are three primary colors of light for pixels: red, green, and blue. \n",
    "\n",
    "By combining different amounts of these three colors (which is what your computer screen does), you can form any other color. \n",
    "\n",
    "In pygame, colors are represented by tuples of three integers. These are called RGB color values, and we’ll use them in our program to assign colors to pixels.\n",
    "\n",
    "Color picker is your friend!\n",
    "http://www.colorpicker.com/\n",
    "\n",
    "Since we don’t want to rewrite a three-number tuple every time we want to use a specific color in our program, we’ll make constants to hold tuples that are named after the color the tuple represents\n",
    "\n",
    "![Some colors](RGB_colors.png)\n",
    "\n",
    "All predefined colors can be found here:\n",
    "https://github.com/pygame/pygame/blob/master/src_py/colordict.py\n",
    "\n",
    "Example: \n",
    "`pygame.Color('gold')`"
   ]
  },
  {
   "cell_type": "markdown",
   "metadata": {},
   "source": [
    "## Writing Text on the pygame Window\n",
    "\n",
    "### Using Fonts to Style Text\n",
    "\n",
    "By calling the `pygame.font.SysFont()` function with two parameters:\n",
    "\n",
    "    - The first parameter is the name of the font, but we’ll pass the None value to use the default system font. \n",
    "    \n",
    "    - The second parameter is the size of the font (which is measured in units called points). \n",
    "    \n",
    "We’ll draw 'Hello world!' on the window in the default font at 48 points. Generating an image of letters for text like “Hello world!” is called *rendering*."
   ]
  },
  {
   "cell_type": "markdown",
   "metadata": {},
   "source": [
    "### Rendering a Font Object\n",
    "\n",
    "The Font object that you’ve stored in the basicFont variable has a method called `render()`. \n",
    "\n",
    "This method will return a Surface object with the text drawn on it. \n",
    "\n",
    "The first parameter to `render()` is the string of the text to draw. \n",
    "\n",
    "The second parameter is a Boolean for whether or not to anti-alias the font. \n",
    "\n",
    "Anti-aliasing blurs your text slightly to make it look smoother.\n",
    "![Aliased](Aliased.png)\n",
    "\n",
    "The third and fourth parameters in line are both RGB tuples. \n",
    "\n",
    "The third parameter is the color the text will be rendered in (white, in this case), and the fourth is the background color behind the text (blue). \n",
    "\n",
    "We assign the Font object to the variable text.\n"
   ]
  },
  {
   "cell_type": "markdown",
   "metadata": {
    "collapsed": true
   },
   "source": [
    "### Setting the Text Location with Rect Attributes\n"
   ]
  },
  {
   "cell_type": "markdown",
   "metadata": {
    "collapsed": true
   },
   "source": [
    "### The game loop and events\n",
    "\n",
    "https://www.pygame.org/docs/ref/event.html"
   ]
  },
  {
   "cell_type": "markdown",
   "metadata": {
    "collapsed": true
   },
   "source": [
    "# Other resources\n",
    "\n",
    "## Building a Snake game in Python\n",
    "\n",
    "https://medium.com/towards-entrepreneurship/building-a-snake-game-in-python-9f5293285e10"
   ]
  },
  {
   "cell_type": "code",
   "execution_count": null,
   "metadata": {
    "collapsed": true
   },
   "outputs": [],
   "source": []
  },
  {
   "cell_type": "code",
   "execution_count": null,
   "metadata": {
    "collapsed": true
   },
   "outputs": [],
   "source": []
  },
  {
   "cell_type": "code",
   "execution_count": null,
   "metadata": {
    "collapsed": true
   },
   "outputs": [],
   "source": []
  }
 ],
 "metadata": {
  "kernelspec": {
   "display_name": "Python 3",
   "language": "python",
   "name": "python3"
  },
  "language_info": {
   "codemirror_mode": {
    "name": "ipython",
    "version": 3
   },
   "file_extension": ".py",
   "mimetype": "text/x-python",
   "name": "python",
   "nbconvert_exporter": "python",
   "pygments_lexer": "ipython3",
   "version": "3.6.10"
  },
  "toc": {
   "base_numbering": 1,
   "nav_menu": {},
   "number_sections": true,
   "sideBar": true,
   "skip_h1_title": false,
   "title_cell": "Table of Contents",
   "title_sidebar": "Contents",
   "toc_cell": false,
   "toc_position": {},
   "toc_section_display": true,
   "toc_window_display": false
  }
 },
 "nbformat": 4,
 "nbformat_minor": 2
}
