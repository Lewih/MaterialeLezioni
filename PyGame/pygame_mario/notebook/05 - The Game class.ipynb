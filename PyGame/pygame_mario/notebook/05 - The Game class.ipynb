{
 "cells": [
  {
   "cell_type": "markdown",
   "metadata": {},
   "source": [
    "![pgb_logo](pgb_logo.jpg)\n",
    "![logo](logo.png)"
   ]
  },
  {
   "cell_type": "markdown",
   "metadata": {},
   "source": [
    "# The Game class\n",
    "\n",
    "A more OO way to organize the code: \n",
    "\n",
    "`05_game_class_example.py`"
   ]
  },
  {
   "cell_type": "markdown",
   "metadata": {},
   "source": [
    "# Assets\n",
    "\n",
    "Be careful about using copyrighted material!\n",
    "\n",
    "## Free repositories\n",
    "\n",
    "### Graphics\n",
    "\n",
    "http://kenney.nl/\n",
    "\n",
    "http://OpenGameArt.org\n",
    "\n",
    "http://HasGraphics.com\n",
    "\n",
    "### Sounds\n",
    "\n",
    "http://OpenGameArt.org\n",
    "\n",
    "http://www.freesound.org"
   ]
  },
  {
   "cell_type": "markdown",
   "metadata": {},
   "source": [
    "# Some Game concepts / elements\n",
    "\n",
    "\n",
    "\n"
   ]
  },
  {
   "cell_type": "markdown",
   "metadata": {},
   "source": [
    "## HUD (Heads-up Display)\n",
    "\n",
    "In video gaming, the HUD (heads-up display) or status bar is the method by which information is visually relayed to the player as part of a game's user interface. \n",
    "\n",
    "It takes its name from the head-up displays used in modern aircraft."
   ]
  },
  {
   "cell_type": "markdown",
   "metadata": {},
   "source": [
    "## NPC (Non Player Characters)\n",
    "\n",
    "Placing a player character in a convincing world is only part of creating a game. \n",
    "\n",
    "To make a game fun, you need to present the player with a number of challenges. These may come in the form of traps and obstacles, but to really entertain your players you need to have them interact with **non-player characters (NPCs)** —characters that appear to act with a degree of intelligence or awareness in the game. \n",
    "\n",
    "The process of creating these NPCs is called artificial intelligence (AI)\n",
    "\n",
    "### FSM (Finite State Machine)\n",
    "\n",
    "A state can be described as a particular condition of a program or entity. \n",
    "\n",
    "Finite defines that there is only a set number of states that the program or entity can be defined by.\n",
    "\n",
    "The entity is controlled by a series of rules that determine what the next state of the program or entity is to be placed in.\n",
    "\n",
    "Finite state machines are used in video games for Artificial Intelligence (AI) as well as menu systems and the overall game state as well.\n",
    "\n",
    "#### Non-player Characters and AI\n",
    "\n",
    "At a basic level, each enemy that the player encounters has a finite state machine (FSM) attached to them. \n",
    "\n",
    "By attached, I mean that it has a reference to a Finite State Machine in the form of a member variable, like self.fsm, for example.\n",
    "\n",
    "Enemy FSMs can run independently of each other, or there can be an overarching ‘pack AI’ that controls a whole series of enemies. For example, you might have ten enemies but the ‘pack AI’ will control how many enemies are used to attack the player, how many will ‘run away’, etc.\n",
    "\n",
    "In a specific case, let’s take an example of a guard. He might have two states: patrol and attack. The guard stays in the patrol state until an enemy (the player) comes within range, say 50 units, and they then move to the attack state.\n",
    "\n",
    "FSMs are usually described using a diagram. Each block represents the state and each arrow shows the rule and the direction of transition. That is, if that rule is met, the arrow points to the state that the entity should use.\n",
    "\n",
    "![fsm_ai](fsm_ai.png)\n",
    "\n",
    "This is the most common use of Finite State Machines (FSMs) and the one that most people associate with FSMs. \n",
    "\n",
    "\n",
    "##### State machines\n",
    "\n",
    "A state of NPC generally defines two things:\n",
    "\n",
    "- What the NPC is doing at that moment\n",
    "\n",
    "- At what point it should switch to another state\n",
    "\n",
    "The arrows define the links between the states and the conditions that must be satisfied to switch states. Links in a state machine are always one-way, but there may be another link that returns to the original state. There may also be several intermediate states before returning to the original state, depending on the complexity of the NPC’s behavior.\n",
    "\n",
    "States may also contain entry actions and exit actions. \n",
    "\n",
    "An entry action is something that is done prior to entering a new state, and is typically used to perform one-time actions needed by the state to run\n",
    "\n",
    "Exit actions, the opposite of entry actions, are performed when leaving a state.\n",
    "\n",
    "\n",
    "#### FSM to control Game state\n",
    "\n",
    "You can also use FSMs to control program state. \n",
    "\n",
    "Let’s take an example of the flow of a typical game application\n",
    "\n",
    "![fsm](fsm.png)"
   ]
  },
  {
   "cell_type": "markdown",
   "metadata": {},
   "source": [
    "## Juicyness\n",
    "\n",
    "Visual embellishments (VEs) are design elements that support information already conveyed by other means. \n",
    "\n",
    "In games, this concept is known as juiciness, and refers to the provision of redundant feedback in situations where a single player action triggers multiple non-functional reactions.\n",
    "\n",
    "https://www.youtube.com/watch?v=Fy0aCDmgnxg"
   ]
  },
  {
   "cell_type": "markdown",
   "metadata": {},
   "source": [
    "## Packaging / Converting to executable\n",
    "\n",
    "Depends on OS"
   ]
  },
  {
   "cell_type": "markdown",
   "metadata": {},
   "source": [
    "# Showcase\n",
    "\n",
    "Time to see more examples of different authors"
   ]
  },
  {
   "cell_type": "markdown",
   "metadata": {},
   "source": [
    "## Minesweeper\n",
    "\n",
    "Author: \n",
    "    \n",
    "Analysis of file: `runner.py`"
   ]
  },
  {
   "cell_type": "markdown",
   "metadata": {},
   "source": [
    "# Exercises\n",
    "\n",
    "1) Improve one of the games in showcases\n",
    "\n",
    "2) Create Your game\n"
   ]
  },
  {
   "cell_type": "markdown",
   "metadata": {
    "collapsed": true
   },
   "source": [
    "# Bibliography\n",
    "\n",
    "Program Arcade Games With Python And Pygame, ch. 13\n",
    "\n",
    "http://programarcadegames.com/index.php\n",
    "\n",
    "For NPC, State Machine\n",
    "Beginning Python Game Development with PyGame 2nd Ed (Kinsley, McCugan), ch. 7\n"
   ]
  }
 ],
 "metadata": {
  "kernelspec": {
   "display_name": "Python 3",
   "language": "python",
   "name": "python3"
  },
  "language_info": {
   "codemirror_mode": {
    "name": "ipython",
    "version": 3
   },
   "file_extension": ".py",
   "mimetype": "text/x-python",
   "name": "python",
   "nbconvert_exporter": "python",
   "pygments_lexer": "ipython3",
   "version": "3.6.10"
  },
  "toc": {
   "base_numbering": 1,
   "nav_menu": {},
   "number_sections": true,
   "sideBar": true,
   "skip_h1_title": false,
   "title_cell": "Table of Contents",
   "title_sidebar": "Contents",
   "toc_cell": false,
   "toc_position": {},
   "toc_section_display": true,
   "toc_window_display": false
  }
 },
 "nbformat": 4,
 "nbformat_minor": 2
}
