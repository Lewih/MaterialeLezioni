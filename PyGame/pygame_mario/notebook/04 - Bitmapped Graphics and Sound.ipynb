{
 "cells": [
  {
   "cell_type": "markdown",
   "metadata": {},
   "source": [
    "![pgb_logo](pgb_logo.jpg)\n",
    "![logo](logo.png)\n",
    "\n",
    "\n",
    "# Bitmapped Graphics\n",
    "\n",
    "## Background image\n",
    "\n",
    "Loading an image is a simple process and involves only one line of code.\n",
    "\n",
    "Example:\n",
    "\n",
    "`pygame.image.load(\"saturn_family1.jpg\")`\n",
    "\n",
    "Normally We need a variable set equal to what the `load()` command returns. \n",
    "\n",
    "In the next version of our load command, we create a new variable named background_image. See below for version two:\n",
    "\n",
    "`background_image = pygame.image.load(\"saturn_family1.jpg\").convert()`\n",
    "\n",
    "Finally, the image needs to be converted to a format Pygame can more easily work with. \n",
    "\n",
    "To do that, we append `.convert()` to the command to call the convert function. \n",
    "\n",
    "The function .convert() is a method in the Image class.\n",
    "\n",
    "Loading the image should be done before the main program loop\n",
    "\n",
    "To display the image use the `blit` command. \n",
    "\n",
    "This “blits” the image bits to the screen. We've already used this command once before when displaying text\n"
   ]
  },
  {
   "cell_type": "markdown",
   "metadata": {},
   "source": [
    "## Moving an image\n",
    "\n",
    "Suppose you need an image to be used as player, to be moved by the mouse.\n",
    "\n",
    "The image can be downloaded from Internet, or you can find a .gif or .png that you like with a white or black background. \n",
    "\n",
    "Don't use a .jpg.\n",
    "\n",
    "To load the image we need the same type of command that we used with the background image\n",
    "\n",
    "```python\n",
    "player_image = pygame.image.load(\"player.png\").convert()\n",
    "# Get the current mouse position. This returns the position\n",
    "# as a list of two numbers.\n",
    "player_position = pygame.mouse.get_pos()\n",
    "x = player_position[0]\n",
    "y = player_position[1]\n",
    " \n",
    "# Copy image to screen:\n",
    "screen.blit(player_image, [x, y])\n",
    "```"
   ]
  },
  {
   "cell_type": "markdown",
   "metadata": {},
   "source": [
    "## Setting proper background\n",
    "\n",
    "All images are rectangular.\n",
    "\n",
    "How do we show only the part of the image we want?\n",
    "\n",
    "he way to get around this is to tell the program to make one color “transparent” and not display.\n",
    "\n",
    "For example, if it is black:\n",
    "\n",
    "`player_image.set_colorkey(BLACK)`\n",
    "\n",
    "This will work for most files ending in .gif and .png. \n",
    "\n",
    "This does not work well for most .jpg files because of their compression."
   ]
  },
  {
   "cell_type": "markdown",
   "metadata": {},
   "source": [
    "# Sounds\n",
    "\n",
    "Like images, sounds must be loaded before they are used. \n",
    "\n",
    "This should be done once sometime before the main program loop.\n",
    "\n",
    "Uncompressed sound files usually end in **.wav**. \n",
    "\n",
    "These files are larger than other formats because no algorithm has been run on them to make them smaller. \n",
    "\n",
    "There is also the ever popular **.mp3** format, although that format has patents that can make it undesirable for certain applications. \n",
    "\n",
    "Another format that is free to use is the OGG Vorbis format that ends in **.ogg**.\n",
    "\n",
    "With free tools like **Audacity** is possible to convert between formats.\n",
    "\n",
    "## Associated to events\n",
    "\n",
    "```python\n",
    "click_sound = pygame.mixer.Sound(\"laser5.ogg\")\n",
    "for event in pygame.event.get():\n",
    "    if event.type == pygame.QUIT:\n",
    "        done = True\n",
    "    elif event.type == pygame.MOUSEBUTTONDOWN:\n",
    "        click_sound.play()\n",
    "```        \n",
    "\n",
    "## In background \n",
    "\n",
    "Loop repeated\n",
    "\n",
    "```python\n",
    "bgk_sound = pygame.mixer.Sound(\"song.ogg\")\n",
    "bgk_sound.play(-1)\n",
    "```       \n",
    "\n",
    "\n"
   ]
  },
  {
   "cell_type": "markdown",
   "metadata": {},
   "source": [
    "# Example\n",
    "\n",
    "See `04_bitmapped_sounds.py`"
   ]
  },
  {
   "cell_type": "markdown",
   "metadata": {},
   "source": [
    "# Exercises\n",
    "\n",
    "## Test\n",
    "\n",
    "http://programarcadegames.com/quiz/quiz.php?file=bitmapped_graphics&lang=en\n",
    "\n",
    "\n",
    "## Assignments\n",
    "\n",
    "Create a graphics based program. You can start a new program, or continue with a prior lab.\n",
    "\n"
   ]
  },
  {
   "cell_type": "markdown",
   "metadata": {
    "collapsed": true
   },
   "source": [
    "# Bibliography\n",
    "\n",
    "Program Arcade Games With Python And Pygame, ch. 11\n",
    "\n",
    "http://programarcadegames.com/index.php\n"
   ]
  }
 ],
 "metadata": {
  "kernelspec": {
   "display_name": "Python 3",
   "language": "python",
   "name": "python3"
  },
  "language_info": {
   "codemirror_mode": {
    "name": "ipython",
    "version": 3
   },
   "file_extension": ".py",
   "mimetype": "text/x-python",
   "name": "python",
   "nbconvert_exporter": "python",
   "pygments_lexer": "ipython3",
   "version": "3.6.10"
  },
  "toc": {
   "base_numbering": 1,
   "nav_menu": {},
   "number_sections": true,
   "sideBar": true,
   "skip_h1_title": false,
   "title_cell": "Table of Contents",
   "title_sidebar": "Contents",
   "toc_cell": false,
   "toc_position": {},
   "toc_section_display": true,
   "toc_window_display": false
  }
 },
 "nbformat": 4,
 "nbformat_minor": 2
}
