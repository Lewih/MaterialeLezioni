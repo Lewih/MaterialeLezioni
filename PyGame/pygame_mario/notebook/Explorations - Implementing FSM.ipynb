{
 "cells": [
  {
   "cell_type": "markdown",
   "metadata": {},
   "source": [
    "![pgb_logo](pgb_logo.jpg)\n",
    "![logo](logo.png)"
   ]
  },
  {
   "cell_type": "markdown",
   "metadata": {},
   "source": [
    "# Implementing State Machines - Ants' Nest Example"
   ]
  },
  {
   "cell_type": "markdown",
   "metadata": {},
   "source": [
    "We are going to create a simulation of an ant’s nest. \n",
    "\n",
    "Insects are often used when experimenting with AI because they have quite simple behaviors that are easy to model. \n",
    "\n",
    "In our simulation universe, we are going to have three entities: leaves, spiders, and the ants themselves. \n",
    "\n",
    "The leaves will grow in random spots on the screen and will be harvested by the ants and returned to the nest. \n",
    "\n",
    "Spiders wander over the screen, and are tolerated by the ants as long as they don’t come near the nest. \n",
    "\n",
    "If a spider enters the nest, it will be chased and bitten until it either dies or manages to get far enough away.\n",
    "\n",
    "![ant_fsm](ant_fsm.png)"
   ]
  },
  {
   "cell_type": "markdown",
   "metadata": {},
   "source": [
    "## Game entities\n",
    "\n",
    "Although we have three different types of entities, it is a good idea to come up with a base class for a game entity that contains common properties and actions. \n",
    "\n",
    "That way, we won’t need to duplicate code for each of the entities, and we can easily add other entities without much extra work.\n",
    "\n",
    "An entity will need to store its **name** (`ant`, `leaf`, or `spider`), as well as its current **location**, **destination**, **speed**, and the **image** used to represent it onscreen.\n",
    "\n",
    "The `GameEntity` class also keeps a reference to a **world**, which is an object we will use to store the positions of all the entities. \n",
    "\n",
    "This `World` object is important because it is how the entity knows about other entities in the simulation. \n",
    "\n",
    "Entities also require an **ID** to identify it in the world and a StateMachine object for its brain (which we will define later)"
   ]
  },
  {
   "cell_type": "markdown",
   "metadata": {},
   "source": [
    "```python\n",
    "class GameEntity(object):\n",
    "\n",
    "    def __init__(self, world, name, image):\n",
    "\n",
    "        self.world = world\n",
    "        self.name = name\n",
    "        self.image = image\n",
    "        self.location = Vector2(0, 0)\n",
    "        self.destination = Vector2(0, 0)\n",
    "        self.speed = 0.\n",
    "\n",
    "        self.brain = StateMachine()\n",
    "\n",
    "        self.id = 0\n",
    "\n",
    "    def render(self, surface):\n",
    "\n",
    "        x, y = self.location\n",
    "        w, h = self.image.get_size()\n",
    "        surface.blit(self.image, (x-w/2, y-h/2))\n",
    "\n",
    "    def process(self, time_passed):\n",
    "\n",
    "        self.brain.think()\n",
    "\n",
    "        if self.speed > 0 and self.location != self.destination:\n",
    "\n",
    "           vec_to_destination = self.destination - self.location\n",
    "           distance_to_destination = vec_to_destination.get_length()\n",
    "           heading = vec_to_destination.get_normalized()\n",
    "           travel_distance = min(distance_to_destination, time_passed * self.speed)\n",
    "           self.location += travel_distance * heading\n",
    "```           "
   ]
  },
  {
   "cell_type": "markdown",
   "metadata": {},
   "source": [
    "The process function of `GameEntity` objects first calls `self.brain.think()`, which will run the state machine to control the entity (typically by changing its destination). \n",
    "\n",
    "\n",
    "Only the `ant` will use a state machine in this simulation, but we could add AI to any entity. If we haven’t built a state machine for the entity, this call will simply return without doing anything. \n",
    "\n",
    "The rest of the process function moves the entity toward its destination, if it is not there already."
   ]
  },
  {
   "cell_type": "markdown",
   "metadata": {},
   "source": [
    "## Words\n",
    "\n",
    "There is not much to the world for this simulation, just a nest, represented by a circle in the center of the screen, and a number of game entities of varying types.\n",
    "\n"
   ]
  },
  {
   "cell_type": "markdown",
   "metadata": {},
   "source": [
    "## Summary\n",
    "\n",
    "The apparent intelligence of an NPC is not always related to the amount of code used to simulate it. \n",
    "\n",
    "Players will tend to attribute intelligence to NPCs that is not really there. \n",
    "\n",
    "In the ant simulation, the ants will form an orderly queue when chasing the spider. \n",
    "\n",
    "A friend of mine saw this and remarked that they were cooperating in the hunt—but of course the ants were acting completely independently. \n",
    "\n",
    "Sometimes it can take surprisingly little work to convince the player that something is smart.\n",
    "\n",
    "State machines are a practical and easy way of implementing game AI because they break down a complex system (i.e., a brain) into smaller chunks that are easy to implement. \n",
    "\n",
    "They aren’t difficult to design because we are accustomed to imagining what other people or animals are thinking when they do things. \n",
    "\n",
    "It may not be practical to turn every thought into computer code, but you only need to approximate behavior to simulate it in a game.\n",
    "\n",
    "The simple state machine framework we created in this chapter can be used in your own games to build convincing AI. \n",
    "\n",
    "As with the ant simulation, start out by defining what the actions for your NPC are and then figure out what would make it switch between these actions. Once you have this laid out on paper, you can start building the individual states in code."
   ]
  },
  {
   "cell_type": "code",
   "execution_count": null,
   "metadata": {
    "collapsed": true
   },
   "outputs": [],
   "source": []
  }
 ],
 "metadata": {
  "kernelspec": {
   "display_name": "Python 3",
   "language": "python",
   "name": "python3"
  },
  "language_info": {
   "codemirror_mode": {
    "name": "ipython",
    "version": 3
   },
   "file_extension": ".py",
   "mimetype": "text/x-python",
   "name": "python",
   "nbconvert_exporter": "python",
   "pygments_lexer": "ipython3",
   "version": "3.6.10"
  },
  "toc": {
   "base_numbering": 1,
   "nav_menu": {},
   "number_sections": true,
   "sideBar": true,
   "skip_h1_title": false,
   "title_cell": "Table of Contents",
   "title_sidebar": "Contents",
   "toc_cell": false,
   "toc_position": {},
   "toc_section_display": true,
   "toc_window_display": false
  }
 },
 "nbformat": 4,
 "nbformat_minor": 2
}
