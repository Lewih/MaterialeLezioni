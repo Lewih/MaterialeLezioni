{
 "cells": [
  {
   "cell_type": "markdown",
   "metadata": {},
   "source": [
    "<h1>Pandas module & loading data </h2>"
   ]
  },
  {
   "cell_type": "code",
   "execution_count": 4,
   "metadata": {},
   "outputs": [],
   "source": [
    "import pandas as pd"
   ]
  },
  {
   "cell_type": "code",
   "execution_count": 27,
   "metadata": {},
   "outputs": [],
   "source": [
    "xls = pd.ExcelFile('yelp.xlsx')\n",
    "df = xls.parse('yelp_data')"
   ]
  },
  {
   "cell_type": "markdown",
   "metadata": {},
   "source": [
    "Il modulo Pandas consente l'accesso a diversi strumenti utili per l'analisi dei dati.Può connettersi ad un database ed interagire con esso.Inoltre può leggere e scrivere files Excel.Dopo aver importato pandas, con i metodo read_excel, si può \"leggere un file excel in un dataframe\".Un DataFrame è una struttura a due dimensioni, così come lo è un foglio di clcolo e una tabella di database.Il modulo Pandas fornisce anche una classe con il metodo  \"parse\".Grazie ad  esso , si può\"leggere fogli specifici dei file excel, nel dataframe\".Con l'esempio, sopra riportato, si caricherà il foglio \"yelp_data\" nel dataframe.Esso dunque verrà riempito con i dati delle attività commerciali di 13 città dello stato di Pennsylvania negli USA.Vediamo i primi 5 records.Questo file, riferisce il docente del corso  (Brandon Krakowsky-corso su Coursera, denominato \"data analysis pandas\"), è stato cortesemente lasciato scaricare dalla sfida avente tale nome."
   ]
  },
  {
   "cell_type": "code",
   "execution_count": 28,
   "metadata": {},
   "outputs": [
    {
     "data": {
      "text/html": [
       "<div>\n",
       "<style scoped>\n",
       "    .dataframe tbody tr th:only-of-type {\n",
       "        vertical-align: middle;\n",
       "    }\n",
       "\n",
       "    .dataframe tbody tr th {\n",
       "        vertical-align: top;\n",
       "    }\n",
       "\n",
       "    .dataframe thead th {\n",
       "        text-align: right;\n",
       "    }\n",
       "</style>\n",
       "<table border=\"1\" class=\"dataframe\">\n",
       "  <thead>\n",
       "    <tr style=\"text-align: right;\">\n",
       "      <th></th>\n",
       "      <th>name</th>\n",
       "      <th>category_0</th>\n",
       "      <th>category_1</th>\n",
       "      <th>take_out</th>\n",
       "      <th>review_count</th>\n",
       "      <th>stars</th>\n",
       "      <th>city_id</th>\n",
       "      <th>state_id</th>\n",
       "    </tr>\n",
       "  </thead>\n",
       "  <tbody>\n",
       "    <tr>\n",
       "      <td>0</td>\n",
       "      <td>China Sea Chinese Restaurant</td>\n",
       "      <td>Restaurants</td>\n",
       "      <td>Chinese</td>\n",
       "      <td>True</td>\n",
       "      <td>11</td>\n",
       "      <td>2.5</td>\n",
       "      <td>1</td>\n",
       "      <td>1</td>\n",
       "    </tr>\n",
       "    <tr>\n",
       "      <td>1</td>\n",
       "      <td>Discount Tire Center</td>\n",
       "      <td>Tires</td>\n",
       "      <td>Automotive</td>\n",
       "      <td>False</td>\n",
       "      <td>24</td>\n",
       "      <td>4.5</td>\n",
       "      <td>1</td>\n",
       "      <td>1</td>\n",
       "    </tr>\n",
       "    <tr>\n",
       "      <td>2</td>\n",
       "      <td>Frankfurters</td>\n",
       "      <td>Restaurants</td>\n",
       "      <td>Hot Dogs</td>\n",
       "      <td>True</td>\n",
       "      <td>3</td>\n",
       "      <td>4.5</td>\n",
       "      <td>1</td>\n",
       "      <td>1</td>\n",
       "    </tr>\n",
       "    <tr>\n",
       "      <td>3</td>\n",
       "      <td>Fred Dietz Floral</td>\n",
       "      <td>Shopping</td>\n",
       "      <td>Flowers &amp; Gifts</td>\n",
       "      <td>False</td>\n",
       "      <td>6</td>\n",
       "      <td>4.0</td>\n",
       "      <td>1</td>\n",
       "      <td>1</td>\n",
       "    </tr>\n",
       "    <tr>\n",
       "      <td>4</td>\n",
       "      <td>Kuhn's Market</td>\n",
       "      <td>Food</td>\n",
       "      <td>Grocery</td>\n",
       "      <td>False</td>\n",
       "      <td>8</td>\n",
       "      <td>3.5</td>\n",
       "      <td>1</td>\n",
       "      <td>1</td>\n",
       "    </tr>\n",
       "  </tbody>\n",
       "</table>\n",
       "</div>"
      ],
      "text/plain": [
       "                           name   category_0       category_1  take_out  \\\n",
       "0  China Sea Chinese Restaurant  Restaurants          Chinese      True   \n",
       "1          Discount Tire Center        Tires       Automotive     False   \n",
       "2                  Frankfurters  Restaurants         Hot Dogs      True   \n",
       "3             Fred Dietz Floral     Shopping  Flowers & Gifts     False   \n",
       "4                 Kuhn's Market         Food          Grocery     False   \n",
       "\n",
       "   review_count  stars  city_id  state_id  \n",
       "0            11    2.5        1         1  \n",
       "1            24    4.5        1         1  \n",
       "2             3    4.5        1         1  \n",
       "3             6    4.0        1         1  \n",
       "4             8    3.5        1         1  "
      ]
     },
     "execution_count": 28,
     "metadata": {},
     "output_type": "execute_result"
    }
   ],
   "source": [
    "df.head()\n"
   ]
  },
  {
   "cell_type": "markdown",
   "metadata": {},
   "source": [
    "Le categorie sono state assegnate da due diversi utenti.Sono indicate le totalità di recensioni disponibili e il numero di stelle assegnate all'esercizio.Negli altri due fogli del foglio elettronico sono elencati identificatori univoci e rispettivi nomi delle due entità :città e stato."
   ]
  },
  {
   "cell_type": "code",
   "execution_count": 29,
   "metadata": {},
   "outputs": [
    {
     "data": {
      "text/plain": [
       "pandas.core.frame.DataFrame"
      ]
     },
     "execution_count": 29,
     "metadata": {},
     "output_type": "execute_result"
    }
   ],
   "source": [
    "type(df)"
   ]
  },
  {
   "cell_type": "code",
   "execution_count": 30,
   "metadata": {},
   "outputs": [
    {
     "data": {
      "text/plain": [
       "600"
      ]
     },
     "execution_count": 30,
     "metadata": {},
     "output_type": "execute_result"
    }
   ],
   "source": [
    "len(df)\n"
   ]
  },
  {
   "cell_type": "markdown",
   "metadata": {},
   "source": [
    "Sopra abbiamo scoperto di quante righe, tale foglio, fosse composto"
   ]
  },
  {
   "cell_type": "code",
   "execution_count": 31,
   "metadata": {},
   "outputs": [
    {
     "data": {
      "text/plain": [
       "(600, 8)"
      ]
     },
     "execution_count": 31,
     "metadata": {},
     "output_type": "execute_result"
    }
   ],
   "source": [
    "df.shape"
   ]
  },
  {
   "cell_type": "markdown",
   "metadata": {},
   "source": [
    "ci sono 600 righe e 8 colonne"
   ]
  },
  {
   "cell_type": "markdown",
   "metadata": {},
   "source": []
  },
  {
   "cell_type": "code",
   "execution_count": 33,
   "metadata": {},
   "outputs": [
    {
     "data": {
      "text/plain": [
       "(600, 12)"
      ]
     },
     "execution_count": 33,
     "metadata": {},
     "output_type": "execute_result"
    }
   ],
   "source": [
    "df.shape"
   ]
  },
  {
   "cell_type": "code",
   "execution_count": 10,
   "metadata": {},
   "outputs": [
    {
     "data": {
      "text/plain": [
       "name             object\n",
       "category_0       object\n",
       "category_1       object\n",
       "take_out           bool\n",
       "review_count      int64\n",
       "stars           float64\n",
       "city_id           int64\n",
       "state_id          int64\n",
       "dtype: object"
      ]
     },
     "execution_count": 10,
     "metadata": {},
     "output_type": "execute_result"
    }
   ],
   "source": [
    "df.dtypes\n"
   ]
  },
  {
   "cell_type": "markdown",
   "metadata": {},
   "source": [
    "In tal modo si conosce il tipo di ciascuna colonna"
   ]
  },
  {
   "cell_type": "code",
   "execution_count": 11,
   "metadata": {},
   "outputs": [
    {
     "data": {
      "text/html": [
       "<div>\n",
       "<style scoped>\n",
       "    .dataframe tbody tr th:only-of-type {\n",
       "        vertical-align: middle;\n",
       "    }\n",
       "\n",
       "    .dataframe tbody tr th {\n",
       "        vertical-align: top;\n",
       "    }\n",
       "\n",
       "    .dataframe thead th {\n",
       "        text-align: right;\n",
       "    }\n",
       "</style>\n",
       "<table border=\"1\" class=\"dataframe\">\n",
       "  <thead>\n",
       "    <tr style=\"text-align: right;\">\n",
       "      <th></th>\n",
       "      <th>review_count</th>\n",
       "      <th>stars</th>\n",
       "      <th>city_id</th>\n",
       "      <th>state_id</th>\n",
       "    </tr>\n",
       "  </thead>\n",
       "  <tbody>\n",
       "    <tr>\n",
       "      <td>count</td>\n",
       "      <td>600.000000</td>\n",
       "      <td>600.000000</td>\n",
       "      <td>600.000000</td>\n",
       "      <td>600.000000</td>\n",
       "    </tr>\n",
       "    <tr>\n",
       "      <td>mean</td>\n",
       "      <td>33.771667</td>\n",
       "      <td>3.495000</td>\n",
       "      <td>9.193333</td>\n",
       "      <td>1.500000</td>\n",
       "    </tr>\n",
       "    <tr>\n",
       "      <td>std</td>\n",
       "      <td>86.901895</td>\n",
       "      <td>0.955596</td>\n",
       "      <td>2.997933</td>\n",
       "      <td>0.500417</td>\n",
       "    </tr>\n",
       "    <tr>\n",
       "      <td>min</td>\n",
       "      <td>3.000000</td>\n",
       "      <td>1.000000</td>\n",
       "      <td>1.000000</td>\n",
       "      <td>1.000000</td>\n",
       "    </tr>\n",
       "    <tr>\n",
       "      <td>25%</td>\n",
       "      <td>5.000000</td>\n",
       "      <td>3.000000</td>\n",
       "      <td>8.000000</td>\n",
       "      <td>1.000000</td>\n",
       "    </tr>\n",
       "    <tr>\n",
       "      <td>50%</td>\n",
       "      <td>10.000000</td>\n",
       "      <td>3.500000</td>\n",
       "      <td>10.500000</td>\n",
       "      <td>1.500000</td>\n",
       "    </tr>\n",
       "    <tr>\n",
       "      <td>75%</td>\n",
       "      <td>25.250000</td>\n",
       "      <td>4.000000</td>\n",
       "      <td>12.000000</td>\n",
       "      <td>2.000000</td>\n",
       "    </tr>\n",
       "    <tr>\n",
       "      <td>max</td>\n",
       "      <td>1305.000000</td>\n",
       "      <td>5.000000</td>\n",
       "      <td>13.000000</td>\n",
       "      <td>2.000000</td>\n",
       "    </tr>\n",
       "  </tbody>\n",
       "</table>\n",
       "</div>"
      ],
      "text/plain": [
       "       review_count       stars     city_id    state_id\n",
       "count    600.000000  600.000000  600.000000  600.000000\n",
       "mean      33.771667    3.495000    9.193333    1.500000\n",
       "std       86.901895    0.955596    2.997933    0.500417\n",
       "min        3.000000    1.000000    1.000000    1.000000\n",
       "25%        5.000000    3.000000    8.000000    1.000000\n",
       "50%       10.000000    3.500000   10.500000    1.500000\n",
       "75%       25.250000    4.000000   12.000000    2.000000\n",
       "max     1305.000000    5.000000   13.000000    2.000000"
      ]
     },
     "execution_count": 11,
     "metadata": {},
     "output_type": "execute_result"
    }
   ],
   "source": [
    "df.describe()"
   ]
  },
  {
   "cell_type": "markdown",
   "metadata": {},
   "source": [
    "tale metodo fornisce statistiche riassuntive, per ciascuna colonna purchè numerica"
   ]
  },
  {
   "cell_type": "code",
   "execution_count": 12,
   "metadata": {},
   "outputs": [
    {
     "data": {
      "text/html": [
       "<div>\n",
       "<style scoped>\n",
       "    .dataframe tbody tr th:only-of-type {\n",
       "        vertical-align: middle;\n",
       "    }\n",
       "\n",
       "    .dataframe tbody tr th {\n",
       "        vertical-align: top;\n",
       "    }\n",
       "\n",
       "    .dataframe thead th {\n",
       "        text-align: right;\n",
       "    }\n",
       "</style>\n",
       "<table border=\"1\" class=\"dataframe\">\n",
       "  <thead>\n",
       "    <tr style=\"text-align: right;\">\n",
       "      <th></th>\n",
       "      <th>name</th>\n",
       "      <th>category_0</th>\n",
       "      <th>category_1</th>\n",
       "      <th>take_out</th>\n",
       "      <th>review_count</th>\n",
       "      <th>stars</th>\n",
       "      <th>city_id</th>\n",
       "      <th>state_id</th>\n",
       "    </tr>\n",
       "  </thead>\n",
       "  <tbody>\n",
       "    <tr>\n",
       "      <td>0</td>\n",
       "      <td>China Sea Chinese Restaurant</td>\n",
       "      <td>Restaurants</td>\n",
       "      <td>Chinese</td>\n",
       "      <td>True</td>\n",
       "      <td>11</td>\n",
       "      <td>2.5</td>\n",
       "      <td>1</td>\n",
       "      <td>1</td>\n",
       "    </tr>\n",
       "    <tr>\n",
       "      <td>1</td>\n",
       "      <td>Discount Tire Center</td>\n",
       "      <td>Tires</td>\n",
       "      <td>Automotive</td>\n",
       "      <td>False</td>\n",
       "      <td>24</td>\n",
       "      <td>4.5</td>\n",
       "      <td>1</td>\n",
       "      <td>1</td>\n",
       "    </tr>\n",
       "    <tr>\n",
       "      <td>2</td>\n",
       "      <td>Frankfurters</td>\n",
       "      <td>Restaurants</td>\n",
       "      <td>Hot Dogs</td>\n",
       "      <td>True</td>\n",
       "      <td>3</td>\n",
       "      <td>4.5</td>\n",
       "      <td>1</td>\n",
       "      <td>1</td>\n",
       "    </tr>\n",
       "    <tr>\n",
       "      <td>3</td>\n",
       "      <td>Fred Dietz Floral</td>\n",
       "      <td>Shopping</td>\n",
       "      <td>Flowers &amp; Gifts</td>\n",
       "      <td>False</td>\n",
       "      <td>6</td>\n",
       "      <td>4.0</td>\n",
       "      <td>1</td>\n",
       "      <td>1</td>\n",
       "    </tr>\n",
       "    <tr>\n",
       "      <td>4</td>\n",
       "      <td>Kuhn's Market</td>\n",
       "      <td>Food</td>\n",
       "      <td>Grocery</td>\n",
       "      <td>False</td>\n",
       "      <td>8</td>\n",
       "      <td>3.5</td>\n",
       "      <td>1</td>\n",
       "      <td>1</td>\n",
       "    </tr>\n",
       "    <tr>\n",
       "      <td>5</td>\n",
       "      <td>Lincoln Bakery</td>\n",
       "      <td>Food</td>\n",
       "      <td>Bakeries</td>\n",
       "      <td>True</td>\n",
       "      <td>25</td>\n",
       "      <td>4.0</td>\n",
       "      <td>1</td>\n",
       "      <td>1</td>\n",
       "    </tr>\n",
       "  </tbody>\n",
       "</table>\n",
       "</div>"
      ],
      "text/plain": [
       "                           name   category_0       category_1  take_out  \\\n",
       "0  China Sea Chinese Restaurant  Restaurants          Chinese      True   \n",
       "1          Discount Tire Center        Tires       Automotive     False   \n",
       "2                  Frankfurters  Restaurants         Hot Dogs      True   \n",
       "3             Fred Dietz Floral     Shopping  Flowers & Gifts     False   \n",
       "4                 Kuhn's Market         Food          Grocery     False   \n",
       "5                Lincoln Bakery         Food         Bakeries      True   \n",
       "\n",
       "   review_count  stars  city_id  state_id  \n",
       "0            11    2.5        1         1  \n",
       "1            24    4.5        1         1  \n",
       "2             3    4.5        1         1  \n",
       "3             6    4.0        1         1  \n",
       "4             8    3.5        1         1  \n",
       "5            25    4.0        1         1  "
      ]
     },
     "execution_count": 12,
     "metadata": {},
     "output_type": "execute_result"
    }
   ],
   "source": [
    "df.head(6)"
   ]
  },
  {
   "cell_type": "markdown",
   "metadata": {},
   "source": [
    "il metodo sopra fornisce, dall'inizio,  il numero di righe presente come argomento, se presente, altrimenti le prime 5"
   ]
  },
  {
   "cell_type": "code",
   "execution_count": 19,
   "metadata": {},
   "outputs": [],
   "source": [
    "df=df.drop_duplicates()"
   ]
  },
  {
   "cell_type": "markdown",
   "metadata": {},
   "source": [
    "il metodo sopra elimina le righe che hanno tutti i valori delle celle uguali ad altre righe (in relazione a tutte le colonne)"
   ]
  },
  {
   "cell_type": "code",
   "execution_count": 20,
   "metadata": {},
   "outputs": [
    {
     "data": {
      "text/plain": [
       "0                           China Sea Chinese Restaurant\n",
       "1                                   Discount Tire Center\n",
       "2                                           Frankfurters\n",
       "3                                      Fred Dietz Floral\n",
       "4                                          Kuhn's Market\n",
       "                             ...                        \n",
       "595    Republic Services of Southern Nevada Recycling...\n",
       "596                                         SA Recycling\n",
       "597                                      Jack In the Box\n",
       "598                                 Custom Hearth & Door\n",
       "599                                     A Sunrise Towing\n",
       "Name: name, Length: 600, dtype: object"
      ]
     },
     "execution_count": 20,
     "metadata": {},
     "output_type": "execute_result"
    }
   ],
   "source": [
    "df[\"name\"]"
   ]
  },
  {
   "cell_type": "markdown",
   "metadata": {},
   "source": [
    "Sopra ho visualizzato elementi (i primi e gli ultimi) della colonna \"name\""
   ]
  },
  {
   "cell_type": "code",
   "execution_count": 35,
   "metadata": {},
   "outputs": [
    {
     "data": {
      "text/html": [
       "<div>\n",
       "<style scoped>\n",
       "    .dataframe tbody tr th:only-of-type {\n",
       "        vertical-align: middle;\n",
       "    }\n",
       "\n",
       "    .dataframe tbody tr th {\n",
       "        vertical-align: top;\n",
       "    }\n",
       "\n",
       "    .dataframe thead th {\n",
       "        text-align: right;\n",
       "    }\n",
       "</style>\n",
       "<table border=\"1\" class=\"dataframe\">\n",
       "  <thead>\n",
       "    <tr style=\"text-align: right;\">\n",
       "      <th></th>\n",
       "      <th>name</th>\n",
       "      <th>city_id</th>\n",
       "      <th>state_id</th>\n",
       "    </tr>\n",
       "  </thead>\n",
       "  <tbody>\n",
       "    <tr>\n",
       "      <td>0</td>\n",
       "      <td>China Sea Chinese Restaurant</td>\n",
       "      <td>1</td>\n",
       "      <td>1</td>\n",
       "    </tr>\n",
       "    <tr>\n",
       "      <td>1</td>\n",
       "      <td>Discount Tire Center</td>\n",
       "      <td>1</td>\n",
       "      <td>1</td>\n",
       "    </tr>\n",
       "    <tr>\n",
       "      <td>2</td>\n",
       "      <td>Frankfurters</td>\n",
       "      <td>1</td>\n",
       "      <td>1</td>\n",
       "    </tr>\n",
       "    <tr>\n",
       "      <td>3</td>\n",
       "      <td>Fred Dietz Floral</td>\n",
       "      <td>1</td>\n",
       "      <td>1</td>\n",
       "    </tr>\n",
       "    <tr>\n",
       "      <td>4</td>\n",
       "      <td>Kuhn's Market</td>\n",
       "      <td>1</td>\n",
       "      <td>1</td>\n",
       "    </tr>\n",
       "    <tr>\n",
       "      <td>...</td>\n",
       "      <td>...</td>\n",
       "      <td>...</td>\n",
       "      <td>...</td>\n",
       "    </tr>\n",
       "    <tr>\n",
       "      <td>95</td>\n",
       "      <td>Aamco Transmissions</td>\n",
       "      <td>8</td>\n",
       "      <td>1</td>\n",
       "    </tr>\n",
       "    <tr>\n",
       "      <td>96</td>\n",
       "      <td>Animal Rescue League Shelter &amp; Wildlife Center</td>\n",
       "      <td>8</td>\n",
       "      <td>1</td>\n",
       "    </tr>\n",
       "    <tr>\n",
       "      <td>97</td>\n",
       "      <td>Aracri's Greentree Inn</td>\n",
       "      <td>8</td>\n",
       "      <td>1</td>\n",
       "    </tr>\n",
       "    <tr>\n",
       "      <td>98</td>\n",
       "      <td>Atch-Mont Real Estate</td>\n",
       "      <td>8</td>\n",
       "      <td>1</td>\n",
       "    </tr>\n",
       "    <tr>\n",
       "      <td>99</td>\n",
       "      <td>Atria's Restaurant</td>\n",
       "      <td>8</td>\n",
       "      <td>1</td>\n",
       "    </tr>\n",
       "  </tbody>\n",
       "</table>\n",
       "<p>100 rows × 3 columns</p>\n",
       "</div>"
      ],
      "text/plain": [
       "                                              name  city_id  state_id\n",
       "0                     China Sea Chinese Restaurant        1         1\n",
       "1                             Discount Tire Center        1         1\n",
       "2                                     Frankfurters        1         1\n",
       "3                                Fred Dietz Floral        1         1\n",
       "4                                    Kuhn's Market        1         1\n",
       "..                                             ...      ...       ...\n",
       "95                             Aamco Transmissions        8         1\n",
       "96  Animal Rescue League Shelter & Wildlife Center        8         1\n",
       "97                          Aracri's Greentree Inn        8         1\n",
       "98                           Atch-Mont Real Estate        8         1\n",
       "99                              Atria's Restaurant        8         1\n",
       "\n",
       "[100 rows x 3 columns]"
      ]
     },
     "execution_count": 35,
     "metadata": {},
     "output_type": "execute_result"
    }
   ],
   "source": [
    "atts=[\"name\",\"city_id\",\"state_id\"]\n",
    "df[atts].head(100)"
   ]
  },
  {
   "cell_type": "markdown",
   "metadata": {},
   "source": [
    "Abbiamo usato i nomi di alcuni attrbuti per estrarre solo quelle colonne, visualizzando, poi, le prime 100 righe"
   ]
  },
  {
   "cell_type": "code",
   "execution_count": 36,
   "metadata": {},
   "outputs": [],
   "source": [
    "df_states = xls.parse('states')\n",
    "df = pd.merge(left=df, right=df_states, how='inner', left_on='state_id', right_on='id')\n",
    "df_cities = xls.parse('cities')\n",
    "df = pd.merge(left=df, right=df_cities, how='inner', left_on='city_id', right_on='id')"
   ]
  },
  {
   "cell_type": "code",
   "execution_count": 37,
   "metadata": {},
   "outputs": [
    {
     "data": {
      "text/html": [
       "<div>\n",
       "<style scoped>\n",
       "    .dataframe tbody tr th:only-of-type {\n",
       "        vertical-align: middle;\n",
       "    }\n",
       "\n",
       "    .dataframe tbody tr th {\n",
       "        vertical-align: top;\n",
       "    }\n",
       "\n",
       "    .dataframe thead th {\n",
       "        text-align: right;\n",
       "    }\n",
       "</style>\n",
       "<table border=\"1\" class=\"dataframe\">\n",
       "  <thead>\n",
       "    <tr style=\"text-align: right;\">\n",
       "      <th></th>\n",
       "      <th>name</th>\n",
       "      <th>category_0</th>\n",
       "      <th>category_1</th>\n",
       "      <th>take_out</th>\n",
       "      <th>review_count</th>\n",
       "      <th>stars</th>\n",
       "      <th>city_id</th>\n",
       "      <th>state_id</th>\n",
       "      <th>id_x</th>\n",
       "      <th>state_x</th>\n",
       "      <th>id_y</th>\n",
       "      <th>city_x</th>\n",
       "      <th>id_x</th>\n",
       "      <th>state_y</th>\n",
       "      <th>id_y</th>\n",
       "      <th>city_y</th>\n",
       "    </tr>\n",
       "  </thead>\n",
       "  <tbody>\n",
       "    <tr>\n",
       "      <td>0</td>\n",
       "      <td>China Sea Chinese Restaurant</td>\n",
       "      <td>Restaurants</td>\n",
       "      <td>Chinese</td>\n",
       "      <td>True</td>\n",
       "      <td>11</td>\n",
       "      <td>2.5</td>\n",
       "      <td>1</td>\n",
       "      <td>1</td>\n",
       "      <td>1</td>\n",
       "      <td>PA</td>\n",
       "      <td>1</td>\n",
       "      <td>Bellevue</td>\n",
       "      <td>1</td>\n",
       "      <td>PA</td>\n",
       "      <td>1</td>\n",
       "      <td>Bellevue</td>\n",
       "    </tr>\n",
       "    <tr>\n",
       "      <td>1</td>\n",
       "      <td>Discount Tire Center</td>\n",
       "      <td>Tires</td>\n",
       "      <td>Automotive</td>\n",
       "      <td>False</td>\n",
       "      <td>24</td>\n",
       "      <td>4.5</td>\n",
       "      <td>1</td>\n",
       "      <td>1</td>\n",
       "      <td>1</td>\n",
       "      <td>PA</td>\n",
       "      <td>1</td>\n",
       "      <td>Bellevue</td>\n",
       "      <td>1</td>\n",
       "      <td>PA</td>\n",
       "      <td>1</td>\n",
       "      <td>Bellevue</td>\n",
       "    </tr>\n",
       "    <tr>\n",
       "      <td>2</td>\n",
       "      <td>Frankfurters</td>\n",
       "      <td>Restaurants</td>\n",
       "      <td>Hot Dogs</td>\n",
       "      <td>True</td>\n",
       "      <td>3</td>\n",
       "      <td>4.5</td>\n",
       "      <td>1</td>\n",
       "      <td>1</td>\n",
       "      <td>1</td>\n",
       "      <td>PA</td>\n",
       "      <td>1</td>\n",
       "      <td>Bellevue</td>\n",
       "      <td>1</td>\n",
       "      <td>PA</td>\n",
       "      <td>1</td>\n",
       "      <td>Bellevue</td>\n",
       "    </tr>\n",
       "    <tr>\n",
       "      <td>3</td>\n",
       "      <td>Fred Dietz Floral</td>\n",
       "      <td>Shopping</td>\n",
       "      <td>Flowers &amp; Gifts</td>\n",
       "      <td>False</td>\n",
       "      <td>6</td>\n",
       "      <td>4.0</td>\n",
       "      <td>1</td>\n",
       "      <td>1</td>\n",
       "      <td>1</td>\n",
       "      <td>PA</td>\n",
       "      <td>1</td>\n",
       "      <td>Bellevue</td>\n",
       "      <td>1</td>\n",
       "      <td>PA</td>\n",
       "      <td>1</td>\n",
       "      <td>Bellevue</td>\n",
       "    </tr>\n",
       "    <tr>\n",
       "      <td>4</td>\n",
       "      <td>Kuhn's Market</td>\n",
       "      <td>Food</td>\n",
       "      <td>Grocery</td>\n",
       "      <td>False</td>\n",
       "      <td>8</td>\n",
       "      <td>3.5</td>\n",
       "      <td>1</td>\n",
       "      <td>1</td>\n",
       "      <td>1</td>\n",
       "      <td>PA</td>\n",
       "      <td>1</td>\n",
       "      <td>Bellevue</td>\n",
       "      <td>1</td>\n",
       "      <td>PA</td>\n",
       "      <td>1</td>\n",
       "      <td>Bellevue</td>\n",
       "    </tr>\n",
       "    <tr>\n",
       "      <td>5</td>\n",
       "      <td>Lincoln Bakery</td>\n",
       "      <td>Food</td>\n",
       "      <td>Bakeries</td>\n",
       "      <td>True</td>\n",
       "      <td>25</td>\n",
       "      <td>4.0</td>\n",
       "      <td>1</td>\n",
       "      <td>1</td>\n",
       "      <td>1</td>\n",
       "      <td>PA</td>\n",
       "      <td>1</td>\n",
       "      <td>Bellevue</td>\n",
       "      <td>1</td>\n",
       "      <td>PA</td>\n",
       "      <td>1</td>\n",
       "      <td>Bellevue</td>\n",
       "    </tr>\n",
       "  </tbody>\n",
       "</table>\n",
       "</div>"
      ],
      "text/plain": [
       "                           name   category_0       category_1  take_out  \\\n",
       "0  China Sea Chinese Restaurant  Restaurants          Chinese      True   \n",
       "1          Discount Tire Center        Tires       Automotive     False   \n",
       "2                  Frankfurters  Restaurants         Hot Dogs      True   \n",
       "3             Fred Dietz Floral     Shopping  Flowers & Gifts     False   \n",
       "4                 Kuhn's Market         Food          Grocery     False   \n",
       "5                Lincoln Bakery         Food         Bakeries      True   \n",
       "\n",
       "   review_count  stars  city_id  state_id  id_x state_x  id_y    city_x  id_x  \\\n",
       "0            11    2.5        1         1     1      PA     1  Bellevue     1   \n",
       "1            24    4.5        1         1     1      PA     1  Bellevue     1   \n",
       "2             3    4.5        1         1     1      PA     1  Bellevue     1   \n",
       "3             6    4.0        1         1     1      PA     1  Bellevue     1   \n",
       "4             8    3.5        1         1     1      PA     1  Bellevue     1   \n",
       "5            25    4.0        1         1     1      PA     1  Bellevue     1   \n",
       "\n",
       "  state_y  id_y    city_y  \n",
       "0      PA     1  Bellevue  \n",
       "1      PA     1  Bellevue  \n",
       "2      PA     1  Bellevue  \n",
       "3      PA     1  Bellevue  \n",
       "4      PA     1  Bellevue  \n",
       "5      PA     1  Bellevue  "
      ]
     },
     "execution_count": 37,
     "metadata": {},
     "output_type": "execute_result"
    }
   ],
   "source": [
    "df.head(6)"
   ]
  },
  {
   "cell_type": "markdown",
   "metadata": {},
   "source": [
    "Abbiamo messo insieme anche la colonna dei nomi delle città e quella dei nomi degli stati facendo uso di un \"inner join\" consentito dalla presenza di una colonna ( campo identificatore) nelle due piccole tabelle, colonna  già presente nella tabella più grande.Questo avviene in similitudine a quanto si fa sui database relazionali.Esso combina i dataframes basandosi sulla chiave di join.Viene restituito un dataframe che contiene solo i record con gli identificatori comuni.In altre parole, il dataframe restituito contiene solo le righe dove i valori da combinare sono presenti in entrambe le tabelle.the pandas function per eseguire l'unione combinata è chiamata \"merge\".Così, a sinistra (on the left) io indico il dataframe df e alla destra (on the right) quello denominato df_cities.Il dataframe risultante si chiamerà sempre df"
   ]
  },
  {
   "cell_type": "code",
   "execution_count": 39,
   "metadata": {},
   "outputs": [
    {
     "data": {
      "text/plain": [
       "(600, 16)"
      ]
     },
     "execution_count": 39,
     "metadata": {},
     "output_type": "execute_result"
    }
   ],
   "source": [
    "df.shape"
   ]
  },
  {
   "cell_type": "code",
   "execution_count": 40,
   "metadata": {},
   "outputs": [],
   "source": [
    "del df['id_x']"
   ]
  },
  {
   "cell_type": "code",
   "execution_count": 42,
   "metadata": {},
   "outputs": [],
   "source": [
    "del df['id_y']"
   ]
  },
  {
   "cell_type": "code",
   "execution_count": 43,
   "metadata": {},
   "outputs": [
    {
     "data": {
      "text/plain": [
       "(600, 12)"
      ]
     },
     "execution_count": 43,
     "metadata": {},
     "output_type": "execute_result"
    }
   ],
   "source": [
    "df.shape"
   ]
  },
  {
   "cell_type": "markdown",
   "metadata": {},
   "source": [
    "Sopra, l'istruzione del ci ha permesso di eliminare le colonne che erano presenti con ridondanza"
   ]
  }
 ],
 "metadata": {
  "kernelspec": {
   "display_name": "Python 3",
   "language": "python",
   "name": "python3"
  },
  "language_info": {
   "codemirror_mode": {
    "name": "ipython",
    "version": 3
   },
   "file_extension": ".py",
   "mimetype": "text/x-python",
   "name": "python",
   "nbconvert_exporter": "python",
   "pygments_lexer": "ipython3",
   "version": "3.7.4"
  }
 },
 "nbformat": 4,
 "nbformat_minor": 2
}
