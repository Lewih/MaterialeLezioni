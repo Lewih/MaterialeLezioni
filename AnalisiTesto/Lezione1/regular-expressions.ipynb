{
 "cells": [
  {
   "cell_type": "markdown",
   "source": [
    "# Python Regular Expressions\n",
    "<sup><sub>Adattato da: [Google for Education - Python](https://developers.google.com/edu/python/regular-expressions)</sup></sub>\n",
    "\n",
    "Le espressioni regolari sono uno strumento altamente efficace e flessibile per\n",
    "trovare pattern all'interno di sequenze testuali.\n",
    "\n",
    "In questo tutorial introduttivo, vedremo come implementare e usare le epsressioni regolari in *Python*,\n",
    "ma li stessi principi possono essere applicati indipendentemente dal linguaggio,\n",
    "e anche in molti tool che si usano quotidianamente (e.g ricerca in windows, word, ecc.)."
   ],
   "metadata": {
    "collapsed": false,
    "pycharm": {
     "name": "#%% md\n"
    }
   }
  },
  {
   "cell_type": "markdown",
   "source": [
    "### Librerie\n",
    "Libreria base di python: ```import re```\n",
    "\n",
    "#### Alternative:\n",
    "- Regex: Retrocompatibile con re, ha qualche chicca in più, per i più esigenti.\n",
    "```\n",
    "pip install regex\n",
    "import regex\n",
    "```"
   ],
   "metadata": {
    "collapsed": false,
    "pycharm": {
     "name": "#%% md\n"
    }
   }
  },
  {
   "cell_type": "code",
   "execution_count": 1,
   "outputs": [],
   "source": [
    "#@title Import all libraries\n",
    "import re\n"
   ],
   "metadata": {
    "collapsed": false,
    "pycharm": {
     "name": "#%%\n"
    }
   }
  },
  {
   "cell_type": "markdown",
   "source": [
    "In Python, la sintassi di base per fare match della regex su un testo è:\n",
    "```python\n",
    "match = re.search(pattern, string)\n",
    "```\n",
    "\n",
    "Ad esempio:\n",
    "```python\n",
    "string = 'an example word:cats!!'\n",
    "match = re.search(r'word:\\w\\w\\w', string)\n",
    "```\n",
    "Le regole di base del matching delle regex sono:\n",
    "    - La ricerca va dall'inizio alla fine dell sequenza, fermandosi al primo match (se non specificato difersamente\n",
    "    chiamando altri metodi, e.g. `findall()`)\n",
    "    - Tutto il pattern deve essere trovato\n",
    "    - Se `match = re.search(pat, str)` non ha successo, match é `None`, altrimenti `match.group()` e il risultato.\n",
    "\n",
    "NOTA:\n",
    "\n",
    "Il prefisso `r` prima del pattern della regex indica a python di trattare la striga come \"raw\", ovvero non modificare il\n",
    "contenuto (e.g. fare l'escape di caratteri quali il backslash)."
   ],
   "metadata": {
    "collapsed": false,
    "pycharm": {
     "name": "#%% md\n"
    }
   }
  },
  {
   "cell_type": "code",
   "execution_count": 2,
   "outputs": [],
   "source": [
    "str = 'an example word:cats!!'\n",
    "match = re.search(r'word:\\w\\w\\w', str)"
   ],
   "metadata": {
    "collapsed": false,
    "pycharm": {
     "name": "#%%\n"
    }
   }
  },
  {
   "cell_type": "code",
   "execution_count": null,
   "outputs": [],
   "source": [
    "# If-statement after search() tests if it succeeded\n",
    "if match:\n",
    "  print('Trovato', match.group()) ## 'found word:cat'\n",
    "else:\n",
    "  print('Non trovato')"
   ],
   "metadata": {
    "collapsed": false,
    "pycharm": {
     "name": "#%%\n"
    }
   }
  },
  {
   "cell_type": "markdown",
   "source": [
    "Python ha due primitive per la ricerca\n",
    "`re.match()` - Match solo all'inizio della stringa\n",
    "`re.search()` - Match all'interno di tutta la stringa"
   ],
   "metadata": {
    "collapsed": false
   }
  },
  {
   "cell_type": "code",
   "execution_count": null,
   "outputs": [],
   "source": [
    "res = re.match(\"c\", \"abcdef\")\n",
    "assert res is None\n",
    "res = re.search(\"c\", \"abcdef\")\n",
    "assert res is not None"
   ],
   "metadata": {
    "collapsed": false,
    "pycharm": {
     "name": "#%%\n"
    }
   }
  },
  {
   "cell_type": "markdown",
   "source": [
    "## Esempi:"
   ],
   "metadata": {
    "collapsed": false,
    "pycharm": {
     "name": "#%% md\n"
    }
   }
  },
  {
   "cell_type": "code",
   "execution_count": null,
   "outputs": [],
   "source": [
    "#@title Base\n",
    "## Search for pattern 'iii' in string 'piiig'.\n",
    "## All of the pattern must match, but it may appear anywhere.\n",
    "## On success, match.group() is matched text.\n",
    "match = re.search(r'iii', 'piiig')\n",
    "assert match.group() == \"iii\"\n",
    "match = re.search(r'igs', 'piiig') # not found, match == None\n",
    "assert match == None"
   ],
   "metadata": {
    "collapsed": false,
    "pycharm": {
     "name": "#%%\n"
    }
   }
  },
  {
   "cell_type": "code",
   "execution_count": 2,
   "outputs": [],
   "source": [
    "#@title Caratteri Speciali\n",
    "## . = any char but \\n\n",
    "match = re.search(r'..g', 'piiig')\n",
    "assert match.group() == \"iig\"\n",
    "\n",
    "\n",
    "## \\d = carattere numerico, \\w = carattere alfabeto (minuscolo)\n",
    "match = re.search(r'\\d\\d\\d', 'p123g') #\n",
    "assert match.group() == \"123\"\n",
    "match = re.search(r'\\w\\w\\w', '@@abcdEFG!!')\n",
    "assert match.group() == \"abc\""
   ],
   "metadata": {
    "collapsed": false,
    "pycharm": {
     "name": "#%%\n"
    }
   }
  },
  {
   "cell_type": "code",
   "execution_count": null,
   "outputs": [],
   "source": [
    "#@title Word bound\n",
    "\n",
    "# Matchare la stringa 'foo' facendo attenzione che non sia sottostringa di un'altra parola\n",
    "\n",
    "foo = re.compile(r'\\bfoo\\b')\n",
    "text_success = ['foo', 'foo. bar', 'bar.foo', '(foo)']\n",
    "text_fail = ['foobar', 'bafoon', 'food']\n",
    "succes = [foo.search(text) is not None for text in text_success]\n",
    "fail = [foo.search(text) is None for text in text_fail]\n",
    "\n",
    "assert all(succes)\n",
    "assert all(fail)"
   ],
   "metadata": {
    "collapsed": false,
    "pycharm": {
     "name": "#%%\n"
    }
   }
  },
  {
   "cell_type": "code",
   "execution_count": null,
   "outputs": [],
   "source": [
    "tweet = '''Good advice! RT @TheNextWeb: What I would do differently if I was learning to code today http://t.co/lbwej0pxOd cc: @garybernhardt #rstats'''\n",
    "\n",
    "desired_output = 'Good advice What I would do differently if I was learning to code today'\n",
    "\n",
    "def clean_tweet(tweet):\n",
    "    tweet = re.sub('http\\S+\\s*', '', tweet)  # remove URLs\n",
    "    tweet = re.sub('RT|cc', '', tweet)  # remove RT and cc\n",
    "    tweet = re.sub('#\\S+', '', tweet)  # remove hashtags\n",
    "    tweet = re.sub('@\\S+', '', tweet)  # remove mentions\n",
    "    punctuation = re.escape(\"\"\"!\"#$%&'()*+,-./:;<=>?@[\\]^_`{|}~\"\"\")\n",
    "    tweet = re.sub(f'[{punctuation}]', '', tweet)  # remove punctuations\n",
    "    tweet = re.sub('\\s+', ' ', tweet)  # remove extra whitespace\n",
    "    return tweet\n",
    "\n",
    "print(clean_tweet(tweet))"
   ],
   "metadata": {
    "collapsed": false,
    "pycharm": {
     "name": "#%%\n"
    }
   }
  },
  {
   "cell_type": "markdown",
   "source": [
    "### Argomenti Avanzati"
   ],
   "metadata": {
    "collapsed": false,
    "pycharm": {
     "name": "#%% md\n"
    }
   }
  },
  {
   "cell_type": "code",
   "execution_count": 2,
   "outputs": [],
   "source": [
    "#@title Gruppi Denominati\n",
    "import re\n",
    "dt1 = \"2026-12-02\"\n",
    "pattern = re.compile(r'(?P<year>\\d{4})-(?P<month>\\d{1,2})-(?P<day>\\d{1,2})')\n",
    "res = pattern.sub(r\"\\g<day>-\\g<month>-\\g<year>\", dt1)\n",
    "assert res == '02-12-2026'"
   ],
   "metadata": {
    "collapsed": false,
    "pycharm": {
     "name": "#%%\n"
    }
   }
  },
  {
   "cell_type": "code",
   "execution_count": null,
   "outputs": [],
   "source": [
    "#@title Backreferencing"
   ],
   "metadata": {
    "collapsed": false,
    "pycharm": {
     "name": "#%%\n"
    }
   }
  },
  {
   "cell_type": "markdown",
   "source": [
    "Dato una string che contiene due informationi:\n",
    "1 - Info base impiegato\n",
    "Inizia con @nome e finisce con nome\n",
    "es: @daniel dxc chennai 45000 male daniel\n",
    "2 - Posizione impiegato\n",
    "Inizia con %nome e finisce con none%\n",
    "es: %daniel python developer daniel%"
   ],
   "metadata": {
    "collapsed": false,
    "pycharm": {
     "name": "#%% md\n"
    }
   }
  },
  {
   "cell_type": "code",
   "execution_count": 13,
   "outputs": [
    {
     "name": "stdout",
     "output_type": "stream",
     "text": [
      "[('daniel', 'dxc chennai 45000 male'), ('raja', 'zoho chennai 37000 male'), ('ramu', 'infosys bengaluru 99000 male hobby-badminton')]\n",
      "[('%', 'daniel', ' python developer '), ('%', 'henry', ' database admin '), ('%', 'raja', ' Testing lead '), ('%', 'ramu', ' Manager ')]\n",
      "[('daniel', ' python developer '), ('henry', ' database admin '), ('raja', ' Testing lead '), ('ramu', ' Manager ')]\n"
     ]
    }
   ],
   "source": [
    "str=\"\"\"\n",
    "@daniel dxc chennai 45000 male daniel @henry infosys bengaluru 29000 male hobby-\n",
    "swimming henry\n",
    "@raja zoho chennai 37000 male raja @ramu infosys bengaluru 99000 male hobby-badminton\n",
    "ramu\n",
    "%daniel python developer daniel% %henry database admin henry%\n",
    "%raja Testing lead raja% %ramu Manager ramu%\n",
    "\"\"\"\n",
    "\n",
    "#backreferencing employee name (\\w+)  <----  \\1\n",
    "#----------------------------------------------\n",
    "basic_info=re.findall(r'@+(\\w+)\\s(.*)\\s\\1',str, re.MULTILINE)\n",
    "print(basic_info)\n",
    "\n",
    "#(%) <-- \\1  and (\\w+) <--- \\2\n",
    "#-------------------------------\n",
    "designation=re.findall(r'(%)+(\\w+)(.*?)\\2\\1',str)\n",
    "print(designation)\n",
    "\n",
    "for i in range(len(designation)):\n",
    "    designation[i]=(designation[i][1],designation[i][2])\n",
    "print(designation)"
   ],
   "metadata": {
    "collapsed": false,
    "pycharm": {
     "name": "#%%\n"
    }
   }
  },
  {
   "cell_type": "code",
   "execution_count": 26,
   "outputs": [
    {
     "name": "stdout",
     "output_type": "stream",
     "text": [
      "['50', '50', '50', '50', '30', '30', '10', '10', '60', '60', '150', '150', '70', '70', '5', '5', '1', '1', '535', '535', '123', '123', '30', '30', '30', '30', '75', '75', '20', '20', '30', '30']\n"
     ]
    }
   ],
   "source": [
    "#@title Lookahead/Lookbehind\n",
    "# Trovare i prezzi all'interno della pagina HTML\n",
    "# il formato e': €50\n",
    "\n",
    "with open(\"fb_marketplace.html\", \"rt\", encoding=\"utf8\") as inf:\n",
    "    webpage = ' '.join(inf.readlines())\n",
    "\n",
    "def find_prices(text):\n",
    "    prices = re.findall(r'(?<=€)(\\d+)',text)\n",
    "    return prices\n",
    "\n",
    "find_prices(webpage)\n",
    "prices = [int(x) for x in find_prices(webpage)]\n",
    "media = sum(prices)/len(prices)\n",
    "print(media)\n",
    "\n"
   ],
   "metadata": {
    "collapsed": false,
    "pycharm": {
     "name": "#%%\n"
    }
   }
  }
 ],
 "metadata": {
  "kernelspec": {
   "name": "python3",
   "language": "python",
   "display_name": "Python 3"
  },
  "language_info": {
   "codemirror_mode": {
    "name": "ipython",
    "version": 2
   },
   "file_extension": ".py",
   "mimetype": "text/x-python",
   "name": "python",
   "nbconvert_exporter": "python",
   "pygments_lexer": "ipython2",
   "version": "2.7.6"
  }
 },
 "nbformat": 4,
 "nbformat_minor": 0
}