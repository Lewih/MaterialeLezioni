{
 "cells": [
  {
   "cell_type": "markdown",
   "source": [
    "## Esercizio Nomi\n",
    "\n",
    "<sup><sub>Adattato da: [Google for Education - Python](https://developers.google.com/edu/python/regular-expressions)</sup></sub>\n"
   ],
   "metadata": {
    "collapsed": false,
    "pycharm": {
     "name": "#%% md\n"
    }
   }
  },
  {
   "cell_type": "code",
   "execution_count": 13,
   "outputs": [],
   "source": [
    "import sys\n",
    "import re\n",
    "import glob\n",
    "\n",
    "def load_files():\n",
    "    files_path = glob.glob('*.html') # NOTA: Come potete vedere, usiamo una regex anche qui\n",
    "    files = []\n",
    "    for path in files_path:\n",
    "        with open(path, 'rt', encoding='utf8') as inf:\n",
    "            files.append(' '.join(inf.readlines()))\n",
    "\n",
    "    return files"
   ],
   "metadata": {
    "collapsed": false,
    "pycharm": {
     "name": "#%%\n"
    }
   }
  },
  {
   "cell_type": "markdown",
   "source": [
    "### TASK\n",
    "Definire il metodo `extract_names()` per estrarre l'anno e una lista  [(name, rank), ... ], dal contenuto dei file baby.html\n",
    "\n",
    "\n",
    "Ecco un idea della struttura del contenuto HTML dei file baby.html:\n",
    "```html\n",
    "...\n",
    "<h3 align=\"center\">Popularity in 1990</h3>\n",
    "....\n",
    "<tr align=\"right\"><td>1</td><td>Michael</td><td>Jessica</td>\n",
    "<tr align=\"right\"><td>2</td><td>Christopher</td><td>Ashley</td>\n",
    "<tr align=\"right\"><td>3</td><td>Matthew</td><td>Brittany</td>\n",
    "...\n",
    "```\n",
    "Piu astrattamente:\n",
    "```html\n",
    "<tr align=\"right\"><td>Posizione nella classifica (rank)</td><td>Nome Maschile</td><td>Nome Femminile</td>\n",
    "```\n",
    "\"\"\""
   ],
   "metadata": {
    "collapsed": false,
    "pycharm": {
     "name": "#%% md\n"
    }
   }
  },
  {
   "cell_type": "code",
   "execution_count": 14,
   "outputs": [],
   "source": [
    "def extract_names(content:str):\n",
    "  \"\"\"\n",
    "  Dato il contenuto di un file baby.html, restituire una listra strutturata:\n",
    "  [(nome, posizione), ...]\n",
    "  \"\"\"\n",
    "  year = 0\n",
    "  names = []\n",
    "  # +++your code here+++\n",
    "  year = re.search(r'Popularity\\sin\\s(\\d{4})', content).group(1)\n",
    "  tuples = re.findall(r'<td>(\\d+)</td><td>(\\w+)</td><td>(\\w+)</td>', content)\n",
    "\n",
    "  # END\n",
    "  names_to_rank = {}\n",
    "  for rank, boyname, girlname in tuples:\n",
    "    if boyname not in names_to_rank:\n",
    "        names_to_rank[boyname] = rank\n",
    "    if girlname not in names_to_rank:\n",
    "        names_to_rank[girlname] = rank\n",
    "  return year, names_to_rank\n",
    "\n"
   ],
   "metadata": {
    "collapsed": false,
    "pycharm": {
     "name": "#%%\n"
    }
   }
  },
  {
   "cell_type": "code",
   "execution_count": 15,
   "outputs": [],
   "source": [
    "contents = load_files()"
   ],
   "metadata": {
    "collapsed": false,
    "pycharm": {
     "name": "#%%\n"
    }
   }
  },
  {
   "cell_type": "code",
   "execution_count": 16,
   "outputs": [],
   "source": [
    "extracted_names = {}\n",
    "for content in contents:\n",
    "    year, names = extract_names(content)\n",
    "    extracted_names[year] = names"
   ],
   "metadata": {
    "collapsed": false,
    "pycharm": {
     "name": "#%%\n"
    }
   }
  },
  {
   "cell_type": "code",
   "execution_count": 23,
   "outputs": [],
   "source": [
    "gt = [str(x) for x in range(1990, 2010, 2)]\n",
    "y = list(extracted_names.keys())\n",
    "assert y == gt\n"
   ],
   "metadata": {
    "collapsed": false,
    "pycharm": {
     "name": "#%%\n"
    }
   }
  },
  {
   "cell_type": "code",
   "execution_count": null,
   "outputs": [],
   "source": [],
   "metadata": {
    "collapsed": false,
    "pycharm": {
     "name": "#%%\n"
    }
   }
  }
 ],
 "metadata": {
  "kernelspec": {
   "display_name": "Python 3",
   "language": "python",
   "name": "python3"
  },
  "language_info": {
   "codemirror_mode": {
    "name": "ipython",
    "version": 2
   },
   "file_extension": ".py",
   "mimetype": "text/x-python",
   "name": "python",
   "nbconvert_exporter": "python",
   "pygments_lexer": "ipython2",
   "version": "2.7.6"
  }
 },
 "nbformat": 4,
 "nbformat_minor": 0
}