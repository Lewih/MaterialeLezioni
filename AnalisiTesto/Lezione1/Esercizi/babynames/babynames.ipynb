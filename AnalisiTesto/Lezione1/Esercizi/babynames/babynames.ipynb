{
 "cells": [
  {
   "cell_type": "markdown",
   "metadata": {
    "pycharm": {
     "name": "#%% md\n"
    }
   },
   "source": [
    "## Esercizio Nomi\n",
    "\n",
    "<sup><sub>Adattato da: [Google for Education - Python](https://developers.google.com/edu/python/regular-expressions)</sup></sub>\n"
   ]
  },
  {
   "cell_type": "code",
   "execution_count": 13,
   "metadata": {
    "pycharm": {
     "name": "#%%\n"
    }
   },
   "outputs": [],
   "source": [
    "import sys\n",
    "import re\n",
    "import glob\n",
    "\n",
    "def load_files():\n",
    "    files_path = glob.glob('*.html') # NOTA: Come potete vedere, usiamo una regex anche qui\n",
    "    files = []\n",
    "    for path in files_path:\n",
    "        with open(path, 'rt', encoding='utf8') as inf:\n",
    "            files.append(' '.join(inf.readlines()))\n",
    "\n",
    "    return files"
   ]
  },
  {
   "cell_type": "markdown",
   "metadata": {
    "pycharm": {
     "name": "#%% md\n"
    }
   },
   "source": [
    "### TASK\n",
    "Definire il metodo `extract_names()` per estrarre l'anno e una lista  [(name, rank), ... ], dal contenuto dei file baby.html\n",
    "\n",
    "\n",
    "Ecco un idea della struttura del contenuto HTML dei file baby.html:\n",
    "```html\n",
    "...\n",
    "<h3 align=\"center\">Popularity in 1990</h3>\n",
    "....\n",
    "<tr align=\"right\"><td>1</td><td>Michael</td><td>Jessica</td>\n",
    "<tr align=\"right\"><td>2</td><td>Christopher</td><td>Ashley</td>\n",
    "<tr align=\"right\"><td>3</td><td>Matthew</td><td>Brittany</td>\n",
    "...\n",
    "```\n",
    "Piu astrattamente:\n",
    "```html\n",
    "<tr align=\"right\"><td>Posizione nella classifica (rank)</td><td>Nome Maschile</td><td>Nome Femminile</td>\n",
    "```\n",
    "\"\"\""
   ]
  },
  {
   "cell_type": "code",
   "execution_count": 14,
   "metadata": {
    "pycharm": {
     "name": "#%%\n"
    }
   },
   "outputs": [],
   "source": [
    "def extract_names(content:str):\n",
    "  \"\"\"\n",
    "  Dato il contenuto di un file baby.html, restituire una listra strutturata:\n",
    "  [(nome, posizione), ...]\n",
    "  \"\"\"\n",
    "\n",
    "  # +++your code here+++\n",
    "  year = 'TODO'\n",
    "  tuples = 'TODO'\n",
    "  # END\n",
    "  names_to_rank = {}\n",
    "  for rank, boyname, girlname in tuples:\n",
    "    if boyname not in names_to_rank:\n",
    "        names_to_rank[boyname] = rank\n",
    "    if girlname not in names_to_rank:\n",
    "        names_to_rank[girlname] = rank\n",
    "  return year, names_to_rank\n",
    "\n"
   ]
  },
  {
   "cell_type": "code",
   "execution_count": 15,
   "metadata": {
    "pycharm": {
     "name": "#%%\n"
    }
   },
   "outputs": [],
   "source": [
    "contents = load_files()"
   ]
  },
  {
   "cell_type": "code",
   "execution_count": 16,
   "metadata": {
    "pycharm": {
     "name": "#%%\n"
    }
   },
   "outputs": [],
   "source": [
    "extracted_names = {}\n",
    "for content in contents:\n",
    "    year, names = extract_names(content)\n",
    "    extracted_names[year] = names"
   ]
  },
  {
   "cell_type": "code",
   "execution_count": 24,
   "metadata": {
    "pycharm": {
     "name": "#%%\n"
    }
   },
   "outputs": [],
   "source": [
    "gt = [str(x) for x in range(1990, 2010, 2)]\n",
    "y = list(extracted_names.keys())\n",
    "assert y == gt, y\n"
   ]
  },
  {
   "cell_type": "code",
   "execution_count": null,
   "metadata": {
    "pycharm": {
     "name": "#%%\n"
    }
   },
   "outputs": [],
   "source": []
  }
 ],
 "metadata": {
  "kernelspec": {
   "display_name": "Python 3",
   "language": "python",
   "name": "python3"
  },
  "language_info": {
   "codemirror_mode": {
    "name": "ipython",
    "version": 3
   },
   "file_extension": ".py",
   "mimetype": "text/x-python",
   "name": "python",
   "nbconvert_exporter": "python",
   "pygments_lexer": "ipython3",
   "version": "3.6.10"
  },
  "toc": {
   "base_numbering": 1,
   "nav_menu": {},
   "number_sections": true,
   "sideBar": true,
   "skip_h1_title": false,
   "title_cell": "Table of Contents",
   "title_sidebar": "Contents",
   "toc_cell": false,
   "toc_position": {},
   "toc_section_display": true,
   "toc_window_display": false
  }
 },
 "nbformat": 4,
 "nbformat_minor": 1
}
