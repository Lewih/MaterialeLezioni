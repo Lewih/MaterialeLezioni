{
 "cells": [
  {
   "cell_type": "markdown",
   "metadata": {
    "collapsed": true,
    "pycharm": {
     "name": "#%% md\n"
    }
   },
   "source": [
    "## Esercizi Introduttivi\n",
    "\n",
    "<sup><sub>Adattato da: [learnbyexample/py_regular_expressions](https://github.com/learnbyexample/py_regular_expressions/blob/master/exercises/Exercises.md)</sup></sub>.\n",
    "Contiene molti altri esempi (in inglese), ben catalogati e con soluzioni."
   ]
  },
  {
   "cell_type": "code",
   "execution_count": 1,
   "outputs": [],
   "source": [
    "import re"
   ],
   "metadata": {
    "collapsed": false,
    "pycharm": {
     "name": "#%%\n"
    }
   }
  },
  {
   "cell_type": "code",
   "execution_count": 3,
   "outputs": [],
   "source": [
    "'''\n",
    "Sostituire tutte le occorrenze di `5` con `five`\n",
    "'''\n",
    "ip = 'They ate 5 apples and 5 oranges'\n",
    "\n",
    "pattern = r'TODO'\n",
    "res = re.sub(pattern, 'five', ip)\n",
    "assert res == 'They ate five apples and five oranges'"
   ],
   "metadata": {
    "collapsed": false,
    "pycharm": {
     "name": "#%%\n"
    }
   }
  },
  {
   "cell_type": "code",
   "execution_count": 39,
   "outputs": [],
   "source": [
    "'''\n",
    "Scrivere una regex che controlla se la stinga inizia con `be`\n",
    "'''\n",
    "line1 = 'be nice'\n",
    "line2 = 'oh no\\nbear spotted'\n",
    "\n",
    "pattern = r'TODO'\n",
    "pat = re.compile(pattern)\n",
    "assert bool(pat.search(line1))\n",
    "assert not(bool(pat.search(line2)))\n",
    "\n"
   ],
   "metadata": {
    "collapsed": false,
    "pycharm": {
     "name": "#%%\n"
    }
   }
  },
  {
   "cell_type": "code",
   "execution_count": 40,
   "outputs": [],
   "source": [
    "'''\n",
    "Dato un testo estrarre tutte le parole contenute tra le parentesi (assumi che non ci sono coppie di parentesi non chiuse)\n",
    "'''\n",
    "\n",
    "text = 'another (way) to reuse (portion) matched (by) capture groups'\n",
    "\n",
    "pattern = r'TODO'\n",
    "res = re.findall(pattern, text)\n",
    "assert res == ['way', 'portion', 'by']"
   ],
   "metadata": {
    "collapsed": false,
    "pycharm": {
     "name": "#%%\n"
    }
   }
  },
  {
   "cell_type": "code",
   "execution_count": 41,
   "outputs": [],
   "source": [
    "'''\n",
    "Data la sequenza in input, estrarre tutte le parole in cui è presente almeno una sequenza ripetuta.\n",
    "Esempio: `232323` and `897897`\n",
    "'''\n",
    "text = '1234 2323 453545354535 9339 11 60260260'\n",
    "\n",
    "pattern = r'TODO'\n",
    "pat = re.compile(pattern)\n",
    "res = [m[0] for m in pat.finditer(text)]\n",
    "assert res == ['2323', '453545354535', '11']"
   ],
   "metadata": {
    "collapsed": false,
    "pycharm": {
     "name": "#%%\n"
    }
   }
  },
  {
   "cell_type": "code",
   "execution_count": 42,
   "outputs": [],
   "source": [
    "'''\n",
    "Convertire le seguenti stringe in dizionari. Il nome delle chiavi per i campi sono: `name`, `maths`, `phy`.\n",
    "'''\n",
    "\n",
    "row1 = 'rohan first,75,89'\n",
    "row2 = 'rose, 88,  92'\n",
    "\n",
    "pattern = r'TODO'\n",
    "pat = re.compile(pattern)\n",
    "\n",
    "res1 = pat.search(row1).groupdict()\n",
    "assert res1 == {'name': 'rohan first', 'maths': '75', 'phy': '89'}, res1\n",
    "\n",
    "res2 = pat.search(row2).groupdict()\n",
    "assert  res2 == {'name': 'rose', 'maths': '88', 'phy': '92'}, res2"
   ],
   "metadata": {
    "collapsed": false,
    "pycharm": {
     "name": "#%%\n"
    }
   }
  }
 ],
 "metadata": {
  "kernelspec": {
   "display_name": "Python 3",
   "language": "python",
   "name": "python3"
  },
  "language_info": {
   "codemirror_mode": {
    "name": "ipython",
    "version": 2
   },
   "file_extension": ".py",
   "mimetype": "text/x-python",
   "name": "python",
   "nbconvert_exporter": "python",
   "pygments_lexer": "ipython2",
   "version": "2.7.6"
  }
 },
 "nbformat": 4,
 "nbformat_minor": 0
}