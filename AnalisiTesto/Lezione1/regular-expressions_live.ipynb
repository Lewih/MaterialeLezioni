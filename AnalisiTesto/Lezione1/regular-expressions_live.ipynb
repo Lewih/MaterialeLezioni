{
 "cells": [
  {
   "cell_type": "markdown",
   "metadata": {
    "pycharm": {
     "name": "#%% md\n"
    }
   },
   "source": [
    "# Python Regular Expressions\n",
    "<sup><sub>Adattato da: [Google for Education - Python](https://developers.google.com/edu/python/regular-expressions)</sup></sub>\n",
    "\n",
    "Le espressioni regolari sono uno strumento altamente efficace e flessibile per\n",
    "trovare pattern all'interno di sequenze testuali.\n",
    "\n",
    "In questo tutorial introduttivo, vedremo come implementare e usare le espressioni regolari in *Python*,\n",
    "ma li stessi principi possono essere applicati indipendentemente dal linguaggio,\n",
    "e anche in molti tool che si usano quotidianamente (e.g ricerca in windows, word, ecc.)."
   ]
  },
  {
   "cell_type": "markdown",
   "metadata": {
    "pycharm": {
     "name": "#%% md\n"
    }
   },
   "source": [
    "### Librerie\n",
    "Libreria base di python: ```import re```\n",
    "\n",
    "#### Alternative:\n",
    "- Regex: Retrocompatibile con re, ha qualche chicca in più, per i più esigenti.\n",
    "```\n",
    "pip install regex\n",
    "import regex\n",
    "```"
   ]
  },
  {
   "cell_type": "code",
   "execution_count": 1,
   "metadata": {
    "pycharm": {
     "name": "#%%\n"
    }
   },
   "outputs": [],
   "source": [
    "#@title Import all libraries\n",
    "import re\n"
   ]
  },
  {
   "cell_type": "markdown",
   "metadata": {
    "pycharm": {
     "name": "#%% md\n"
    }
   },
   "source": [
    "In Python, la sintassi di base per fare match della regex su un testo è:\n",
    "```python\n",
    "match = re.search(pattern, string)\n",
    "```\n",
    "\n",
    "Ad esempio:\n",
    "```python\n",
    "string = 'an example word:cats!!'\n",
    "match = re.search(r'word:\\w\\w\\w', string)\n",
    "```\n",
    "Le regole di base del matching delle regex sono:\n",
    "    - La ricerca va dall'inizio alla fine dell sequenza, fermandosi al primo match (se non specificato difersamente\n",
    "    chiamando altri metodi, e.g. `findall()`)\n",
    "    - Tutto il pattern deve essere trovato\n",
    "    - Se `match = re.search(pat, str)` non ha successo, match é `None`, altrimenti `match.group()` e il risultato.\n",
    "\n",
    "NOTA:\n",
    "\n",
    "Il prefisso `r` prima del pattern della regex indica a python di trattare la striga come \"raw\", ovvero non modificare il\n",
    "contenuto (e.g. fare l'escape di caratteri quali il backslash)."
   ]
  },
  {
   "cell_type": "code",
   "execution_count": 2,
   "metadata": {
    "pycharm": {
     "name": "#%%\n"
    }
   },
   "outputs": [
    {
     "name": "stdout",
     "output_type": "stream",
     "text": [
      "Trovato cat\n"
     ]
    }
   ],
   "source": [
    "str = 'an example word:cats!!'\n",
    "# Match di cat\n",
    "match = re.search(r'cat', str)\n",
    "# If-statement after search() tests if it succeeded\n",
    "if match:\n",
    "  print('Trovato', match.group()) ## 'found word:cat'\n",
    "else:\n",
    "  print('Non trovato')"
   ]
  },
  {
   "cell_type": "markdown",
   "metadata": {
    "pycharm": {
     "name": "#%% md\n"
    }
   },
   "source": [
    "Python ha due primitive per la ricerca\n",
    "`re.match()` - Match solo all'inizio della stringa\n",
    "`re.search()` - Match all'interno di tutta la stringa"
   ]
  },
  {
   "cell_type": "code",
   "execution_count": 3,
   "metadata": {
    "pycharm": {
     "name": "#%%\n"
    }
   },
   "outputs": [],
   "source": [
    "res = re.match(\"c\", \"abcdef\")\n",
    "assert res is None\n",
    "res = re.search(\"c\", \"abcdef\")\n",
    "assert res is not None"
   ]
  },
  {
   "cell_type": "markdown",
   "metadata": {
    "pycharm": {
     "name": "#%% md\n"
    }
   },
   "source": [
    "## Esempi:"
   ]
  },
  {
   "cell_type": "code",
   "execution_count": 4,
   "metadata": {
    "pycharm": {
     "name": "#%%\n"
    }
   },
   "outputs": [],
   "source": [
    "\n",
    "#@title Base\n",
    "## Trovare il pattern 'iii' nella stringa 'piiig'.\n",
    "match = re.search(r'iii', 'piiig')\n",
    "assert match.group() == \"iii\""
   ]
  },
  {
   "cell_type": "code",
   "execution_count": 5,
   "metadata": {
    "pycharm": {
     "name": "#%%\n"
    }
   },
   "outputs": [],
   "source": [
    "## Far fallire il match\n",
    "match = re.search(r'\\d', 'piiig') # not found, match == None\n",
    "assert match == None"
   ]
  },
  {
   "cell_type": "code",
   "execution_count": 6,
   "metadata": {
    "pycharm": {
     "name": "#%%\n"
    }
   },
   "outputs": [],
   "source": [
    "#@title Caratteri Speciali\n",
    "## Matchare 2 qualiasi caratteri che precedono g\n",
    "match = re.search(r'.{2}g', 'piiig')\n",
    "assert match.group() == \"iig\""
   ]
  },
  {
   "cell_type": "code",
   "execution_count": 7,
   "metadata": {
    "pycharm": {
     "name": "#%%\n"
    }
   },
   "outputs": [],
   "source": [
    "## Matchare i 3 numeri consecutivi\n",
    "## \\d = carattere numerico, \\w = carattere alfanumerico e _ (minuscolo)\n",
    "match = re.search(r'\\d{3}', 'p123g') #\n",
    "assert match.group() == \"123\""
   ]
  },
  {
   "cell_type": "code",
   "execution_count": 8,
   "metadata": {
    "pycharm": {
     "name": "#%%\n"
    }
   },
   "outputs": [],
   "source": [
    "## Matchare 3 caratteri minuscoli consecutivi\n",
    "match = re.search(r'[a-z]{3}', '@@abcdEFG!!')\n",
    "assert match.group() == \"abc\""
   ]
  },
  {
   "cell_type": "code",
   "execution_count": 9,
   "metadata": {
    "pycharm": {
     "name": "#%%\n"
    }
   },
   "outputs": [],
   "source": [
    "#@title Word bound\n",
    "\n",
    "# Matchare la stringa 'foo' facendo attenzione che non sia sottostringa di un'altra parola\n",
    "\n",
    "foo = re.compile(r'\\bfoo\\b')\n",
    "text_success = ['foo', 'foo. bar', 'bar.foo', '(foo)']\n",
    "text_fail = ['foobar', 'bafoon', 'food']\n",
    "succes = [foo.search(text) is not None for text in text_success]\n",
    "fail = [foo.search(text) is None for text in text_fail]\n",
    "\n",
    "assert all(succes)\n",
    "assert all(fail)"
   ]
  },
  {
   "cell_type": "code",
   "execution_count": 10,
   "metadata": {
    "pycharm": {
     "name": "#%%\n"
    }
   },
   "outputs": [
    {
     "name": "stdout",
     "output_type": "stream",
     "text": [
      "Good advice! RT @TheNextWeb: RT What I would do differently if I was learning to code today t.co/lbwej0pxOd cc: @garybernhardt #rstats\n"
     ]
    },
    {
     "ename": "AssertionError",
     "evalue": "",
     "output_type": "error",
     "traceback": [
      "\u001b[1;31m---------------------------------------------------------------------------\u001b[0m",
      "\u001b[1;31mAssertionError\u001b[0m                            Traceback (most recent call last)",
      "\u001b[1;32m<ipython-input-10-4779810fcaaf>\u001b[0m in \u001b[0;36m<module>\u001b[1;34m()\u001b[0m\n\u001b[0;32m     14\u001b[0m \u001b[1;33m\u001b[0m\u001b[0m\n\u001b[0;32m     15\u001b[0m \u001b[0mprint\u001b[0m\u001b[1;33m(\u001b[0m\u001b[0mclean_tweet\u001b[0m\u001b[1;33m(\u001b[0m\u001b[0mtweet\u001b[0m\u001b[1;33m)\u001b[0m\u001b[1;33m)\u001b[0m\u001b[1;33m\u001b[0m\u001b[1;33m\u001b[0m\u001b[0m\n\u001b[1;32m---> 16\u001b[1;33m \u001b[1;32massert\u001b[0m \u001b[0mclean_tweet\u001b[0m\u001b[1;33m(\u001b[0m\u001b[0mtweet\u001b[0m\u001b[1;33m)\u001b[0m\u001b[1;33m==\u001b[0m\u001b[0mdesired_output\u001b[0m\u001b[1;33m\u001b[0m\u001b[1;33m\u001b[0m\u001b[0m\n\u001b[0m",
      "\u001b[1;31mAssertionError\u001b[0m: "
     ]
    }
   ],
   "source": [
    "tweet = '''Good advice! RT @TheNextWeb: RT What I would do differently if I was learning to code today http://t.co/lbwej0pxOd cc: @garybernhardt #rstats'''\n",
    "\n",
    "desired_output = 'Good advice What I would do differently if I was learning to code today'\n",
    "\n",
    "def clean_tweet(tweet):\n",
    "    tweet = re.sub('http(s)?://', '', tweet)  # Rimuovere URLs\n",
    "    tweet = re.sub('\\b(RT|cc)\\b', '', tweet)  # Rimuovere RT and cc\n",
    "    tweet = re.sub('', '', tweet)  # Rimuovere hashtags #tag\n",
    "    tweet = re.sub('TODO', '', tweet)  # Rimuovere mentions @username\n",
    "    punctuation = re.escape(\"\"\"!\"#$%&'()*+,-./:;<=>?@[\\]^_`{|}~\"\"\")\n",
    "    tweet = re.sub(f'TODO', '', tweet)  # Rimuovere punteggiatura\n",
    "    tweet = re.sub('TODO', ' ', tweet)  # Rimuovere spazi extra\n",
    "    return tweet\n",
    "\n",
    "print(clean_tweet(tweet))\n",
    "assert clean_tweet(tweet)==desired_output"
   ]
  },
  {
   "cell_type": "markdown",
   "metadata": {
    "pycharm": {
     "name": "#%% md\n"
    }
   },
   "source": [
    "### Argomenti Avanzati"
   ]
  },
  {
   "cell_type": "code",
   "execution_count": 29,
   "metadata": {
    "pycharm": {
     "name": "#%%\n"
    }
   },
   "outputs": [],
   "source": [
    "#@title Gruppi Denominati\n",
    "import re\n",
    "\n",
    "# Cambiare il formato della data da YYYY-MM-DD a DD-MM-YYYY\n",
    "\n",
    "dt1 = \"2026-12-02\"\n",
    "pattern = re.compile(r'(?P<anno>\\d{4})-(?P<mese>\\d{1,2})-(?P<giorno>\\d{1,2})')\n",
    "res = pattern.sub(r\"\\g<giorno>-\\2-\\g<anno>\", dt1)\n",
    "assert res == '02-12-2026'"
   ]
  },
  {
   "cell_type": "code",
   "execution_count": null,
   "metadata": {
    "pycharm": {
     "name": "#%%\n"
    }
   },
   "outputs": [],
   "source": [
    "#@title Backreferencing"
   ]
  },
  {
   "cell_type": "markdown",
   "metadata": {
    "pycharm": {
     "name": "#%% md\n"
    }
   },
   "source": [
    "Dato una string che contiene due informationi:\n",
    "1 - Info base impiegato\n",
    "Inizia con @nome e finisce con nome\n",
    "es: @daniel dxc chennai 45000 male daniel\n",
    "2 - Posizione impiegato\n",
    "Inizia con %nome e finisce con none%\n",
    "es: %daniel python developer daniel%"
   ]
  },
  {
   "cell_type": "code",
   "execution_count": 13,
   "metadata": {
    "pycharm": {
     "name": "#%%\n"
    }
   },
   "outputs": [
    {
     "name": "stdout",
     "output_type": "stream",
     "text": [
      "[('daniel', 'dxc chennai 45000 male'), ('raja', 'zoho chennai 37000 male'), ('ramu', 'infosys bengaluru 99000 male hobby-badminton')]\n",
      "[('%', 'daniel', ' python developer '), ('%', 'henry', ' database admin '), ('%', 'raja', ' Testing lead '), ('%', 'ramu', ' Manager ')]\n",
      "[('daniel', ' python developer '), ('henry', ' database admin '), ('raja', ' Testing lead '), ('ramu', ' Manager ')]\n"
     ]
    }
   ],
   "source": [
    "str=\"\"\"\n",
    "@daniel dxc chennai 45000 male daniel @henry infosys bengaluru 29000 male hobby-\n",
    "swimming henry\n",
    "@raja zoho chennai 37000 male raja @ramu infosys bengaluru 99000 male hobby-badminton\n",
    "ramu\n",
    "%daniel python developer daniel% %henry database admin henry%\n",
    "%raja Testing lead raja% %ramu Manager ramu%\n",
    "\"\"\"\n",
    "\n",
    "#backreferencing employee name (\\w+)  <----  \\1\n",
    "#----------------------------------------------\n",
    "basic_info=re.findall(r'TODO',str, re.MULTILINE)\n",
    "print(basic_info)\n",
    "\n",
    "#(%) <-- \\1  and (\\w+) <--- \\2\n",
    "#-------------------------------\n",
    "designation=re.findall(r'TODO',str)\n",
    "print(designation)\n",
    "\n",
    "for i in range(len(designation)):\n",
    "    designation[i]=(designation[i][1],designation[i][2])\n",
    "print(designation)"
   ]
  },
  {
   "cell_type": "code",
   "execution_count": 11,
   "metadata": {
    "pycharm": {
     "name": "#%%\n"
    }
   },
   "outputs": [
    {
     "ename": "ZeroDivisionError",
     "evalue": "division by zero",
     "output_type": "error",
     "traceback": [
      "\u001b[1;31m---------------------------------------------------------------------------\u001b[0m",
      "\u001b[1;31mZeroDivisionError\u001b[0m                         Traceback (most recent call last)",
      "\u001b[1;32m<ipython-input-11-de24dfae81d1>\u001b[0m in \u001b[0;36m<module>\u001b[1;34m()\u001b[0m\n\u001b[0;32m     12\u001b[0m \u001b[1;33m\u001b[0m\u001b[0m\n\u001b[0;32m     13\u001b[0m \u001b[0mprices\u001b[0m \u001b[1;33m=\u001b[0m \u001b[1;33m[\u001b[0m\u001b[0mint\u001b[0m\u001b[1;33m(\u001b[0m\u001b[0mx\u001b[0m\u001b[1;33m)\u001b[0m \u001b[1;32mfor\u001b[0m \u001b[0mx\u001b[0m \u001b[1;32min\u001b[0m \u001b[0mfind_prices\u001b[0m\u001b[1;33m(\u001b[0m\u001b[0mwebpage\u001b[0m\u001b[1;33m)\u001b[0m\u001b[1;33m]\u001b[0m\u001b[1;33m\u001b[0m\u001b[1;33m\u001b[0m\u001b[0m\n\u001b[1;32m---> 14\u001b[1;33m \u001b[0mmedia\u001b[0m \u001b[1;33m=\u001b[0m \u001b[0msum\u001b[0m\u001b[1;33m(\u001b[0m\u001b[0mprices\u001b[0m\u001b[1;33m)\u001b[0m\u001b[1;33m/\u001b[0m\u001b[0mlen\u001b[0m\u001b[1;33m(\u001b[0m\u001b[0mprices\u001b[0m\u001b[1;33m)\u001b[0m\u001b[1;33m\u001b[0m\u001b[1;33m\u001b[0m\u001b[0m\n\u001b[0m\u001b[0;32m     15\u001b[0m \u001b[0mprint\u001b[0m\u001b[1;33m(\u001b[0m\u001b[0mmedia\u001b[0m\u001b[1;33m)\u001b[0m\u001b[1;33m\u001b[0m\u001b[1;33m\u001b[0m\u001b[0m\n",
      "\u001b[1;31mZeroDivisionError\u001b[0m: division by zero"
     ]
    }
   ],
   "source": [
    "#@title Lookahead/Lookbehind\n",
    "# Trovare i prezzi all'interno della pagina HTML\n",
    "# il formato e': €50\n",
    "\n",
    "with open(\"fb_marketplace.html\", \"rt\", encoding=\"utf8\") as inf:\n",
    "    webpage = ' '.join(inf.readlines())\n",
    "\n",
    "def find_prices(text):\n",
    "    prices = re.findall(r'TODO',text)\n",
    "    return prices\n",
    "\n",
    "\n",
    "prices = [int(x) for x in find_prices(webpage)]\n",
    "media = sum(prices)/len(prices)\n",
    "print(media)"
   ]
  },
  {
   "cell_type": "code",
   "execution_count": 24,
   "metadata": {
    "pycharm": {
     "name": "#%%\n"
    }
   },
   "outputs": [
    {
     "data": {
      "text/plain": [
       "True"
      ]
     },
     "execution_count": 24,
     "metadata": {},
     "output_type": "execute_result"
    }
   ],
   "source": []
  }
 ],
 "metadata": {
  "kernelspec": {
   "display_name": "Python 3",
   "language": "python",
   "name": "python3"
  },
  "language_info": {
   "codemirror_mode": {
    "name": "ipython",
    "version": 3
   },
   "file_extension": ".py",
   "mimetype": "text/x-python",
   "name": "python",
   "nbconvert_exporter": "python",
   "pygments_lexer": "ipython3",
   "version": "3.6.10"
  },
  "toc": {
   "base_numbering": 1,
   "nav_menu": {},
   "number_sections": true,
   "sideBar": true,
   "skip_h1_title": false,
   "title_cell": "Table of Contents",
   "title_sidebar": "Contents",
   "toc_cell": false,
   "toc_position": {},
   "toc_section_display": true,
   "toc_window_display": false
  }
 },
 "nbformat": 4,
 "nbformat_minor": 1
}
