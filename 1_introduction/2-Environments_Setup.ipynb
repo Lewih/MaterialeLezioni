{
 "cells": [
  {
   "cell_type": "markdown",
   "metadata": {},
   "source": [
    "# Setup dell'ambiente e degli strumenti di lavoro"
   ]
  },
  {
   "cell_type": "markdown",
   "metadata": {},
   "source": [
    "Questo breve documento vi insegnerà le basi degli ambienti di lavoro necessari per questo corso."
   ]
  },
  {
   "cell_type": "markdown",
   "metadata": {},
   "source": [
    "# Installare Python"
   ]
  },
  {
   "cell_type": "markdown",
   "metadata": {},
   "source": [
    "Cos'è Python?  \n",
    "https://docs.python.org/3/tutorial/index.html\n",
    "\n",
    "Python è un linguaggio di programmazione potente e facile da imparare. Ha efficienti strutture dati di alto livello e un approccio semplice ma efficace alla programmazione orientata agli oggetti. L'elegante sintassi e la tipizzazione dinamica di Python, insieme alla sua natura interpretativa, ne fanno un linguaggio ideale per lo scripting e il rapido sviluppo di applicazioni in molte aree della maggior parte delle piattaforme.\n",
    "\n",
    "L'interprete Python e l'ampia libreria standard sono liberamente disponibili in forma sorgente o binaria per tutte le principali piattaforme dal sito web Python, https://www.python.org/, e possono essere liberamente distribuiti. Lo stesso sito contiene anche distribuzioni e puntatori a molti moduli Python di terze parti gratuiti, programmi e strumenti, e documentazione aggiuntiva.\n",
    "\n",
    "L'interprete Python è facilmente estensibile con nuove funzioni e tipi di dati implementati in C o C++ (o altri linguaggi richiamabili da C). Python è anche adatto come linguaggio di estensione per applicazioni personalizzabili."
   ]
  },
  {
   "cell_type": "markdown",
   "metadata": {},
   "source": [
    "Cosa si può fare con Python? Quasi tutto, e la maggior parte delle cose abbastanza facilmente. Argomenti come l'analisi dei dati, l'apprendimento automatico, lo sviluppo web, le applicazioni desktop, la robotica e altro ancora sono tutte cose che si possono immediatamente iniziare a fare con Python senza troppa fatica. Personalmente, ho usato Python per addestrare alcune IA, per aiutare le aziende a rilevare le malattie, per aiutare a individuare frodi e abusi contro i server, per creare giochi, per scambiare azioni, e ho costruito e aiutato a costruire molteplici attività con Python.  \n",
    "Python, ma più in generale la programmazione, è lo strumento del nostro secolo che vi consente di lavorare con i computers su qualsiasi applicazione e a qualsiasi livello!  \\\n",
    "https://pythonprogramming.net/introduction-learn-python-3-tutorials/  "
   ]
  },
  {
   "cell_type": "markdown",
   "metadata": {},
   "source": [
    "Se volete installare il pitone sulla vostra macchina, potete scaricarlo da qui: https://www.python.org/downloads/  \n",
    "La versione python usata in questo corso è il python 3.6 perché è più versatile per tutte le biblioteche di Data Science usate in questo corso.\n",
    "\n",
    "In alcune macchine (mac, linux) sarà installata di default la versione 2.7 di python, vi chiediamo di non usare la versione 2.x per problemi di incompatibilità.  \n",
    "\n",
    "Installate la versione base dal sito web se volete iniziare a giocare con python!"
   ]
  },
  {
   "cell_type": "markdown",
   "metadata": {},
   "source": [
    "## Anaconda"
   ]
  },
  {
   "cell_type": "markdown",
   "metadata": {},
   "source": [
    "- Cos'è l'anaconda\n",
    "- Installare\n",
    "- GUI vs linea di comando"
   ]
  },
  {
   "cell_type": "markdown",
   "metadata": {},
   "source": [
    "Anaconda è una distribuzione open source dei linguaggi di programmazione Python e R ed è utilizzato nella scienza dei dati, nell'apprendimento automatico, nelle applicazioni di apprendimento profondo che mirano a semplificare la gestione e la distribuzione dei pacchetti.\n",
    "\n",
    "La distribuzione Anaconda è usata da oltre 7 milioni di utenti, e comprende più di 300 pacchetti di scienza dei dati adatti a Windows, Linux e MacOS."
   ]
  },
  {
   "cell_type": "markdown",
   "metadata": {},
   "source": [
    "Contiene tutti i pacchetti necessari per iniziare a sviluppare con Python ed è la distribuzione che raccomandiamo perché è molto facile da imparare e da usare."
   ]
  },
  {
   "cell_type": "markdown",
   "metadata": {},
   "source": [
    "Se vuoi installare Anaconda scarica la versione 3.X da qui: https://www.anaconda.com/distribution/"
   ]
  },
  {
   "cell_type": "markdown",
   "metadata": {},
   "source": [
    "L'Anaconda ha due tipi di interazione:\n",
    "- Approccio grafico\n",
    "- Approccio basato su terminale"
   ]
  },
  {
   "cell_type": "markdown",
   "metadata": {
    "lang": "it"
   },
   "source": [
    "L'approccio grafico è con l'Anaconda Navigator una GUI che può aiutare ad utilizzare gli strumenti\n",
    "\n",
    "<img src=\"resources/anaconda_navigator.png\">\n",
    "\n",
    "Nell'immagine qui sopra puoi vedere alcune parti diverse:\n",
    "- La parte blu: è dove puoi gestire alcuni diversi ambienti python-conda (ne parleremo nel prossimo cpt.)\n",
    "- La parte rossa: è dove è possibile modificare gli ambienti installati e le relative app\n",
    "- La parte gialla: sono le app installate in un ambiente specifico che puoi usare\n",
    "\n",
    "Se apri la parte blu (ambienti) puoi trovare tutti gli ambienti, tutti i pacchetti e puoi creare nuovi ambienti, pacchetti e librerie o disinstallare e gestire gli altri già in\n",
    "\n",
    "<img src=\"resources/anaconda_environments.png\">"
   ]
  },
  {
   "cell_type": "markdown",
   "metadata": {
    "lang": "it"
   },
   "source": [
    "Il modo migliore per usare anaconda è con il terminale, dopo l'installazione apri CMD (o la tua app terminale) e puoi interagire con Anaconda usando il comando: conda\n",
    "\n",
    "<img src=\"resources/conda-terminal.png\">\n",
    "\n",
    "Ecco qualche utile comando:\n",
    "\n",
    "- Informazioni sull'installazione di Conda\n",
    "\n",
    "- Per vedere i tuoi ambienti\n",
    "\n",
    "- Elenco dei pacchetti nei tuoi ambienti\n",
    "\n",
    "- Aggiorna anaconda"
   ]
  },
  {
   "cell_type": "markdown",
   "metadata": {},
   "source": [
    "### Virtual Environments"
   ]
  },
  {
   "cell_type": "markdown",
   "metadata": {
    "lang": "it"
   },
   "source": [
    "- Che cos'è un ambiente virtuale\n",
    "- Crea un nuovo ambiente virtuale\n",
    "- Installa i pacchetti python in librerie e pacchetti (conda vs pip)\n",
    "- Cambia ambiente e usa ambienti diversi"
   ]
  },
  {
   "cell_type": "markdown",
   "metadata": {
    "lang": "it"
   },
   "source": [
    "Lo scopo principale degli ambienti virtuali Python (chiamato anche venv) è quello di creare un ambiente isolato per i progetti Python.\n",
    "Ciò significa che ogni progetto può avere le proprie dipendenze, indipendentemente dalle dipendenze di ogni altro progetto.\n",
    "\n",
    "Nel nostro piccolo esempio qui sopra, avremmo solo bisogno di creare un ambiente virtuale separato sia per ProjectA che ProjectB, e saremmo pronti a partire.\n",
    "Ogni ambiente, a sua volta, sarebbe in grado di dipendere da qualunque versione di ProjectC scelga, indipendentemente dall'altro.\n",
    "\n",
    "Il bello di questo è che non ci sono limiti al numero di ambienti che puoi avere dato che sono solo directory che contengono alcuni script.\n",
    "Inoltre, possono essere facilmente creati utilizzando gli strumenti da riga di comando virtualenv o pyenv."
   ]
  },
  {
   "cell_type": "markdown",
   "metadata": {
    "lang": "it"
   },
   "source": [
    "È possibile creare un ambiente virtuale con Python predefinito, ma utilizziamo ambienti con Anaconda.\n",
    "Per informazioni standard su Python relative agli ambienti virtuali, vedere questo link di seguito: \\\n",
    "https://realpython.com/python-virtual-environments-a-primer/"
   ]
  },
  {
   "cell_type": "markdown",
   "metadata": {
    "lang": "it"
   },
   "source": [
    "Ecco alcuni utili comandi da utilizzare con Anaconda per creare, controllare, validare e aggiornare un Conda Venv"
   ]
  },
  {
   "cell_type": "markdown",
   "metadata": {
    "lang": "it"
   },
   "source": [
    "ATTENZIONE: se sei su Windows, usa CMD (come amministratore se possibile) e cerca di evitare Powershell fino a quando non sei sicuro di questa tecnologia"
   ]
  },
  {
   "cell_type": "markdown",
   "metadata": {
    "lang": "it"
   },
   "source": [
    "__Per visualizzare le informazioni di Conda sull'installazione__\n",
    "\n",
    "```Bash\n",
    "conda -v\n",
    "```"
   ]
  },
  {
   "cell_type": "markdown",
   "metadata": {},
   "source": [
    "__Controllare che Anaconda sia aggiornato__\n",
    "```bash\n",
    "conda update conda\n",
    "```"
   ]
  },
  {
   "cell_type": "markdown",
   "metadata": {
    "lang": "it"
   },
   "source": [
    "__Crea un nuovo ambiente virtuale (venv) con una specifica versione di Python__ \\\n",
    "Ricorda di sostituire x.x con la tua versione di Python (usiamo principalmente la versione 3.6) e \"yourenvname\" con il nome del tuo ambiente\n",
    "```Bash\n",
    "conda create -n yourenvname python = x.x anaconda\n",
    "```\n",
    "\n",
    "Se vuoi creare un ambiente vuoto senza le librerie di conda predefinite puoi fare:\n",
    "```Bash\n",
    "conda create -n nomeutente python = x.x\n",
    "```\n",
    "senza l'etichetta anaconda"
   ]
  },
  {
   "cell_type": "markdown",
   "metadata": {},
   "source": [
    "__Attivare l'ambiente di Anaconda__\n",
    "```bash\n",
    "conda activate yourenvname\n",
    "```"
   ]
  },
  {
   "cell_type": "markdown",
   "metadata": {
    "lang": "it"
   },
   "source": [
    "__Per installare un nuovo pacchetto nel tuo nuovo ambiente puoi ...__\n",
    "```Bash\n",
    "conda install -n nomeutente [pacchetto]\n",
    "```\n",
    "\n",
    "ma se sei già nel tuo ambiente conda puoi semplicemente fare:\n",
    "```Bash\n",
    "conda install [pacchetto]\n",
    "```\n",
    "\n",
    "* sempre senza la parentesi []"
   ]
  },
  {
   "cell_type": "markdown",
   "metadata": {
    "lang": "it"
   },
   "source": [
    "__Per uscire dal proprio ambiente virtuale__\n",
    "```Bash\n",
    "conda disattivato\n",
    "```"
   ]
  },
  {
   "cell_type": "markdown",
   "metadata": {
    "lang": "it"
   },
   "source": [
    "__Se si desidera eliminare l'ambiente virtuale anaconda__\n",
    "```Bash\n",
    "conda remove -n nomeutente -all\n",
    "```"
   ]
  },
  {
   "cell_type": "markdown",
   "metadata": {
    "lang": "it"
   },
   "source": [
    "__Se vuoi vedere i tuoi ambienti virtuali anaconda installati__\n",
    "```Bash\n",
    "Elenco conda env\n",
    "```"
   ]
  },
  {
   "cell_type": "markdown",
   "metadata": {
    "lang": "it"
   },
   "source": [
    "__Se vuoi rimuovere il tuo ambiente conda__\n",
    "```Bash\n",
    "conda remove --name yourenvname --all\n",
    "```"
   ]
  },
  {
   "cell_type": "markdown",
   "metadata": {
    "lang": "it"
   },
   "source": [
    "Esistono 2 tipi di scenari che è possibile seguire per installare nuovi pacchetti o librerie Python in Conda:\n",
    "- Usando pip\n",
    "- Usando conda\n",
    "\n",
    "Entrambi sono due gestori di librerie, il primo è il gestore python predefinito e il secondo è il gestore predefinito di Anaconda.\n",
    "Le librerie disponibili da entrambi i gestori possono essere diversi, quindi ti suggeriamo di utilizzare entrambi i managers ma dando la priorità all'uso di Conda.\n",
    "\n",
    "AVVERTENZA: se si utilizza pip, è necessario che l'ambiente sia attivato ed essere al suo interno."
   ]
  },
  {
   "cell_type": "markdown",
   "metadata": {
    "lang": "it"
   },
   "source": [
    "Se vuoi qualche altra informazione vedi questo articolo (specialmente se vuoi usare un file requisito.yml personalizzato per le tue librerie Python)\n",
    "https://towardsdatascience.com/getting-started-with-python-environments-using-conda-32e9f2779307"
   ]
  },
  {
   "cell_type": "markdown",
   "metadata": {},
   "source": [
    "## Jupyter"
   ]
  },
  {
   "cell_type": "markdown",
   "metadata": {
    "lang": "it"
   },
   "source": [
    "Jupyter Notebook è un'applicazione Web open source che consente di creare e condividere documenti che contengono codice in tempo reale, equazioni, visualizzazioni e testo narrativo.\n",
    "Gli usi includono: pulizia e trasformazione dei dati, simulazione numerica, modellistica statistica, visualizzazione dei dati, apprendimento automatico e molto altro.\n",
    "\n",
    "È lo strumento predefinito per questo laboratorio ed è uno degli strumenti comuni per Data Science utilizzati in tutto il mondo."
   ]
  },
  {
   "cell_type": "markdown",
   "metadata": {
    "lang": "it"
   },
   "source": [
    "Jupyter è installato per impostazione predefinita all'interno dell'ambiente conda di base, ma se si desidera utilizzare all'interno del nuovo ambiente virtuale conda, è necessario installarlo.\n",
    "\n",
    "Per installare jupyter all'interno di un ambiente di conda devi:\n",
    "1. attiva l'ambiente virtuale creato (venv)\n",
    "2. avvia `conda install jupyter`\n",
    "3. eseguire jupyter digitando `jupyter notebook`\n",
    "\n",
    "Ogni volta che vuoi lanciare il notebook Jupyter con il tuo ambiente virtuale conda personalizzato devi:\n",
    "1. attiva la tua conda env\n",
    "2. eseguire: `jupyter notebook` all'interno del terminale\n",
    "\n",
    "quindi apparirà una nuova finestra del browser e potrai usare Jupyter da lì con il tuo Venv."
   ]
  },
  {
   "cell_type": "markdown",
   "metadata": {
    "lang": "it"
   },
   "source": [
    "Se vuoi chiudere Jupyter\n",
    "1. salva il tuo lavoro\n",
    "2. chiudere le schede del browser\n",
    "3. premere: CRTL + C all'interno delle finestre della console per terminare tutti i kernel e il server jupyter"
   ]
  },
  {
   "cell_type": "markdown",
   "metadata": {
    "lang": "it"
   },
   "source": [
    "#### Imposta la cartella di progetto predefinita di Jupyter"
   ]
  },
  {
   "cell_type": "markdown",
   "metadata": {
    "lang": "it"
   },
   "source": [
    "È possibile impostare la cartella principale principale di Jupyter predefinita con questa semplice guida\n",
    "\n",
    "Utilizzare il file di configurazione del notebook jupyter:\n",
    "Dopo aver installato Anaconda ..\n",
    "\n",
    "1. Apri cmd (o Anaconda Prompt) ed esegui jupyter notebook --generate-config.\n",
    "2. Questo scrive un file in C: \\ Users \\ nomeutente \\ .jupyter \\ jupyter _notebook_ config.py.\n",
    "3. Passare al percorso del file e aprirlo in un editor\n",
    "4. Cerca la seguente riga nel file: # c.NotebookApp.notebook _dir = ''\n",
    "5. Sostituisci con c.NotebookApp.notebook_ dir = '/ the / path / to / home / folder /'\n",
    "6. Assicurati di usare le barre rovesciate nel tuo percorso e di usare / home / user / invece di ~ / per la tua home directory, le barre rovesciate potrebbero essere usate se inserite tra virgolette anche se il nome della cartella contiene spazi come tali: \"D: \\ yourUserName \\ Qualsiasi cartella \\ Altre cartelle \\ \"\n",
    "7. Rimuovere il # all'inizio della riga per consentire l'esecuzione della riga"
   ]
  },
  {
   "cell_type": "markdown",
   "metadata": {
    "lang": "it"
   },
   "source": [
    "Se vuoi estendere e aggiornare Jupyter con nuove funzionalità, puoi seguire questa guida:\n",
    "https://ndres.me/post/best-jupyter-notebook-extensions/"
   ]
  },
  {
   "cell_type": "markdown",
   "metadata": {},
   "source": [
    "### Jupyter Lab"
   ]
  },
  {
   "cell_type": "markdown",
   "metadata": {
    "lang": "en"
   },
   "source": [
    "JupyterLab is a web-based interactive development environment for Jupyter notebooks, code, and data.  \n",
    "JupyterLab is flexible: configure and arrange the user interface to support a wide range of workflows in data science, scientific computing, and machine learning.  \n",
    "JupyterLab is extensible and modular: write plugins that add new components and integrate with existing ones."
   ]
  },
  {
   "cell_type": "markdown",
   "metadata": {
    "lang": "it"
   },
   "source": [
    "JupyterLab è un ambiente di sviluppo interattivo Web per i Jupyter notebooks.\n",
    "JupyterLab è flessibile: configura e organizza l'interfaccia utente per supportare un'ampia gamma di flussi di lavoro nella scienza dei dati, informatica scientifica e machine learning.\n",
    "JupyterLab è estensibile e modulare: scrivi plugin che aggiungono nuovi componenti e si integrano con quelli esistenti."
   ]
  },
  {
   "cell_type": "markdown",
   "metadata": {
    "lang": "it"
   },
   "source": [
    "Rispetto ai notebook jupyter, jupyter lab è una singola pagina web con molte più funzionalità e un'interfaccia estesa, è quasi un IDE più complesso."
   ]
  },
  {
   "cell_type": "markdown",
   "metadata": {
    "lang": "it"
   },
   "source": [
    "Per installare jupyter lab in conda devi:\n",
    "1. attiva il tuo conda venv\n",
    "2. avvia `conda install jupyterlab`\n",
    "3. eseguire jupyter digitando `jupyter lab`\n",
    "\n",
    "Ogni volta che vuoi lanciare il notebook Jupyter con il tuo ambiente virtuale conda personalizzato devi:\n",
    "1. attiva la tua conda env\n",
    "2. eseguire: `jupyter lab` all'interno del terminale"
   ]
  },
  {
   "cell_type": "markdown",
   "metadata": {},
   "source": [
    "#### Problemi noti"
   ]
  },
  {
   "cell_type": "markdown",
   "metadata": {},
   "source": [
    "Utilizzando jupyter su un environment creato a mano è possibile che non vi trovi i pacchetti installati, questo perchè si sta utilizzando jupyter installato nell'environment di default oppure in un altro ambiente, ma non nell'ambiente di riferimento della libreria installata.  \n",
    "Quando questo si verifica ricordate di installare jupyter all'interno del vostro nuovo ambiente (environment) di lavoro."
   ]
  },
  {
   "cell_type": "markdown",
   "metadata": {},
   "source": [
    "## Visual Studio Code"
   ]
  },
  {
   "cell_type": "markdown",
   "metadata": {
    "lang": "it"
   },
   "source": [
    "https://code.visualstudio.com/\n",
    "\n",
    "Visual Studio Code è un editor di codice sorgente sviluppato da Microsoft per Windows, Linux e macOS. Include supporto per debug, controllo Git incorporato e GitHub, evidenziazione della sintassi, completamento del codice intelligente, frammenti e refactoring del codice.\n",
    "\n",
    "È un IDE utile per sviluppare applicazioni potenti e complesse con Python ed è consigliato quando si desidera creare, progettare, progettare e costruire applicazioni o codici di produzione di grandi dimensioni.\n",
    "\n",
    "Visual Studio Code è compatibile con Python e puoi seguire questa guida per utilizzare con:\n",
    "https://code.visualstudio.com/docs/python/python-tutorial"
   ]
  },
  {
   "cell_type": "markdown",
   "metadata": {
    "lang": "it"
   },
   "source": [
    "Con il codice Visual Studio puoi anche usare celle di codice come il quaderno Jupyter.\n",
    "Non sono gli stessi, ma l'uso è abbastanza simile grazie a IPython che è il pacchetto base su cui è stato creato Jupyter.\n",
    "Per utilizzare i notebook, seguire questa guida:\n",
    "https://code.visualstudio.com/docs/python/jupyter-support"
   ]
  },
  {
   "cell_type": "markdown",
   "metadata": {},
   "source": [
    "Ecco alcune estensioni utili che si possono installare su Visual Studio Code:\n",
    "- Anaconda extension pack\n",
    "- Code Runner\n",
    "- Git History\n",
    "- Git Lens\n",
    "- Live share\n",
    "- Powershell\n",
    "- Python\n",
    "- Project manager\n",
    "- Shell launcher\n",
    "- vscode-icons"
   ]
  },
  {
   "cell_type": "markdown",
   "metadata": {},
   "source": [
    "# Git"
   ]
  },
  {
   "cell_type": "markdown",
   "metadata": {
    "lang": "it"
   },
   "source": [
    "- Cos'è Git?\n",
    "- Perché Git?\n",
    "- Come usarlo\n",
    "- Corso suggerito per GIT\n",
    "- Utilizzando Github"
   ]
  },
  {
   "cell_type": "markdown",
   "metadata": {
    "lang": "it"
   },
   "source": [
    "Git è un software di controllo versione distribuito\n",
    "Creato da Linus Torvalds nel 2005 per gestire il codice Linux\n",
    "Può essere utilizzato dalla riga di comando\n",
    "Disponibile anche su Windows\n",
    "Potrebbe avere un repository \"centrale\" più importante degli altri\n",
    "\n",
    "È lo strumento fondamentale di base per cooperare in gruppo, condividendo codice e \"cosa di programmazione\" tra loro.\n",
    "\n",
    "Lo scopo di Git è gestire un progetto, o un insieme di file, mentre cambiano nel tempo.\n",
    "Git archivia queste informazioni in una struttura di dati chiamata repository. Un repository git contiene, tra le altre cose, quanto segue: Un set di oggetti commit.\n",
    "\n",
    "Ci sono anche aziende che estendono e usano git per molti scopi, due esempi sono: Github e GitLab.\n",
    "\n",
    "GitHub è un servizio di hosting di repository Git, ma aggiunge molte delle sue funzionalità. Mentre Git è uno strumento da riga di comando, GitHub fornisce un'interfaccia grafica basata sul Web.\n",
    "Fornisce inoltre il controllo degli accessi e diverse funzionalità di collaborazione, come wiki e strumenti di gestione delle attività di base per ogni progetto.\n",
    "\n",
    "I servizi di gestione dei repository di controllo versione come Github e GitLab sono un componente chiave nel flusso di lavoro di sviluppo software. Negli ultimi anni, GitHub e GitLab si sono posizionati come assistenti utili per gli sviluppatori, in particolare quando lavorano in team di grandi dimensioni.\n",
    "\n",
    "Entrambi, GitLab e GitHub sono repository Git basati sul web.\n",
    "\n",
    "Lo scopo di Git è gestire i progetti di sviluppo software e i suoi file, poiché cambiano nel tempo. Git archivia queste informazioni in una struttura di dati chiamata repository.\n",
    "\n",
    "Tale repository git contiene un set di oggetti commit e un set di riferimenti per eseguire il commit di oggetti.\n",
    "\n",
    "Un repository git è un luogo centrale in cui gli sviluppatori archiviano, condividono, testano e collaborano a progetti Web.\n",
    "\n",
    "Ci sono alcune differenze tra Gitlab e Github, ma i punti chiave sono gli stessi."
   ]
  },
  {
   "cell_type": "markdown",
   "metadata": {
    "lang": "it"
   },
   "source": [
    "#### Installa Git\n",
    "Scarica git da qui: https://git-scm.com/downloads usando l'emulazione POSIX in Windows.\n",
    "\n",
    "\n",
    "O per i geek, puoi seguire questa guida per Windows con sottosistema Linux:\n",
    "https://docs.microsoft.com/en-us/windows/wsl/about"
   ]
  },
  {
   "cell_type": "markdown",
   "metadata": {
    "lang": "it"
   },
   "source": [
    "#### Guida semplice su Git\n",
    "http://rogerdudler.github.io/git-guide/"
   ]
  },
  {
   "cell_type": "markdown",
   "metadata": {},
   "source": [
    "#### Git tutorial interattivo\n",
    "https://learngitbranching.js.org/"
   ]
  },
  {
   "cell_type": "markdown",
   "metadata": {
    "lang": "it"
   },
   "source": [
    "#### Usare Github\n",
    "\n",
    "L'uso di GitHub è assolutamente consigliato e consigliato per familiarizzare con questi strumenti per questo corso.\n",
    "\n",
    "Ti consigliamo di creare un account su GitHub e utilizzarlo per i progetti e il codice che creerai in questo lab e percorso.\n",
    "\n",
    "Usa questo tutorial per capire come usare GitHub\n",
    "https://product.hubspot.com/blog/git-and-github-tutorial-for-beginners"
   ]
  }
 ],
 "metadata": {
  "kernelspec": {
   "display_name": "Python 3",
   "language": "python",
   "name": "python3"
  },
  "language_info": {
   "codemirror_mode": {
    "name": "ipython",
    "version": 3
   },
   "file_extension": ".py",
   "mimetype": "text/x-python",
   "name": "python",
   "nbconvert_exporter": "python",
   "pygments_lexer": "ipython3",
   "version": "3.6.9"
  },
  "latex_envs": {
   "LaTeX_envs_menu_present": true,
   "autoclose": false,
   "autocomplete": true,
   "bibliofile": "biblio.bib",
   "cite_by": "apalike",
   "current_citInitial": 1,
   "eqLabelWithNumbers": true,
   "eqNumInitial": 1,
   "hotkeys": {
    "equation": "Ctrl-E",
    "itemize": "Ctrl-I"
   },
   "labels_anchors": false,
   "latex_user_defs": false,
   "report_style_numbering": false,
   "user_envs_cfg": false
  },
  "nbTranslate": {
   "displayLangs": [
    "it",
    "en"
   ],
   "hotkey": "alt-t",
   "langInMainMenu": true,
   "sourceLang": "en",
   "targetLang": "it",
   "useGoogleTranslate": true
  },
  "varInspector": {
   "cols": {
    "lenName": 16,
    "lenType": 16,
    "lenVar": 40
   },
   "kernels_config": {
    "python": {
     "delete_cmd_postfix": "",
     "delete_cmd_prefix": "del ",
     "library": "var_list.py",
     "varRefreshCmd": "print(var_dic_list())"
    },
    "r": {
     "delete_cmd_postfix": ") ",
     "delete_cmd_prefix": "rm(",
     "library": "var_list.r",
     "varRefreshCmd": "cat(var_dic_list()) "
    }
   },
   "types_to_exclude": [
    "module",
    "function",
    "builtin_function_or_method",
    "instance",
    "_Feature"
   ],
   "window_display": false
  }
 },
 "nbformat": 4,
 "nbformat_minor": 4
}
